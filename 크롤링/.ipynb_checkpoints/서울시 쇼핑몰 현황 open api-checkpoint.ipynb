{
 "cells": [
  {
   "cell_type": "code",
   "execution_count": 28,
   "id": "a4490f4b",
   "metadata": {},
   "outputs": [],
   "source": [
    "# 사이트에 자료 요청용 라이브러리 임포트\n",
    "import urllib.request\n",
    "# json 데이터 핸들링용\n",
    "import json\n",
    "import xml\n",
    "import pandas as pd\n",
    "# json 데이터를 pandasDataFrame 변환\n",
    "from pandas.io.json import json_normalize"
   ]
  },
  {
   "cell_type": "code",
   "execution_count": 37,
   "id": "faff8aea",
   "metadata": {},
   "outputs": [],
   "source": [
    "key = \"697a686c426c6368353144556c6e4e\"\n",
    "request_url = \"http://openAPI.seoul.go.kr:8088/%s/json/ServiceInternetShopInfo/1/5/\" % (key) "
   ]
  },
  {
   "cell_type": "code",
   "execution_count": 38,
   "id": "1b339fd8",
   "metadata": {},
   "outputs": [],
   "source": [
    "result = urllib.request.urlopen(request_url)"
   ]
  },
  {
   "cell_type": "code",
   "execution_count": 39,
   "id": "89507a07",
   "metadata": {},
   "outputs": [],
   "source": [
    "#얻어진 데이터의 json만 뽑기 위해 .read()를 사용합니다\n",
    "json_raw = result.read()"
   ]
  },
  {
   "cell_type": "code",
   "execution_count": 40,
   "id": "d447113e",
   "metadata": {},
   "outputs": [
    {
     "name": "stdout",
     "output_type": "stream",
     "text": [
      "<class 'bytes'>\n"
     ]
    }
   ],
   "source": [
    "print(type(json_raw))"
   ]
  },
  {
   "cell_type": "code",
   "execution_count": 41,
   "id": "a66fc762",
   "metadata": {},
   "outputs": [
    {
     "data": {
      "text/plain": [
       "'{\"ServiceInternetShopInfo\":{\"list_total_count\":135379,\"RESULT\":{\"CODE\":\"INFO-000\",\"MESSAGE\":\"정상 처리되었습니다\"},\"row\":[{\"COMPANY\":\"주식회사 클린씨\",\"SHOP_NAME\":\"cleanc/클린씨\",\"DOMAIN_NAME\":\"www.cleanc.kr\",\"TEL\":\"02-529-1845\",\"EMAIL\":\"info@cleanc.kr\",\"UPJONG_NBR\":\"\",\"YPFORM\":\"\",\"FIRST_HEO_DATE\":\"2018-11-02\",\"COM_ADDR\":\"서울특별시 송파구 충민로66 가든파이브라이프 테크노관 제9층 9089,9096호\",\"STAT_NM\":\"광고용(홍보용)\",\"TOT_RATINGPOINT\":\"0\",\"CHOGI_RATINGPOINT\":\"0\",\"CHUNG_RATINGPOINT\":\"0\",\"DEAL_RATINGPOINT\":\"0\",\"PYOJUN_RATINGPOINT\":\"0\",\"SECURITY_RATINGPOINT\":\"0\",\"SERVICE\":\"\",\"CHUNG\":\"\",\"CHOGI\":\"\",\"GYULJE\":\"\",\"PYOJUN\":\"\",\"P_INFO_CARE\":\"\",\"PER_INFO\":\"\",\"DEAL_CARE\":\"\",\"SSL_YN\":\"\",\"INJEUNG\":\"\",\"BAESONG_YEJEONG\":\"\",\"BAESONG\":\"\",\"CLIENT_BBS\":\"\",\"LEAVE\":\"\",\"KAESOL_YEAR\":\"\",\"REG_DATE\":\"2022-07-26\"},{\"COMPANY\":\"(주)아이우디\",\"SHOP_NAME\":\"아이우디/iwoodiy\",\"DOMAIN_NAME\":\"iwoodiy.com\",\"TEL\":\"02-929-2144/\",\"EMAIL\":\"iwoodiy1@naver.com\",\"UPJONG_NBR\":\"\",\"YPFORM\":\" 일반쇼핑몰\",\"FIRST_HEO_DATE\":\"2020-04-03\",\"COM_ADDR\":\"서울특별시 성북구 보문로 42\",\"STAT_NM\":\"영업중\",\"TOT_RATINGPOINT\":\"2\",\"CHOGI_RATINGPOINT\":\"3\",\"CHUNG_RATINGPOINT\":\"0\",\"DEAL_RATINGPOINT\":\"3\",\"PYOJUN_RATINGPOINT\":\"1\",\"SECURITY_RATINGPOINT\":\"3\",\"SERVICE\":\" 가구/생활/주방 기타\",\"CHUNG\":\"청약철회 안됨\",\"CHOGI\":\" 상호 대표자 소재지 전화번호 전자우편주소 사업자등록번호 사이버몰이용약관 통신판매신고번호 호스팅 사업자\",\"GYULJE\":\" 현금입금(무통장,계좌이체등) 신용카드 간편결제 기타\",\"PYOJUN\":\"자체약관 사용\",\"P_INFO_CARE\":\"초기화면표시\",\"PER_INFO\":\"\",\"DEAL_CARE\":\"에스크로제도\",\"SSL_YN\":\"\",\"INJEUNG\":\"\",\"BAESONG_YEJEONG\":\"있다\",\"BAESONG\":\"철회 안 됨\",\"CLIENT_BBS\":\"있다(비공개)\",\"LEAVE\":\"회원탈퇴 가능\",\"KAESOL_YEAR\":\"2021\",\"REG_DATE\":\"2022-07-26\"},{\"COMPANY\":\"주식회사 에이드런\",\"SHOP_NAME\":\"adren/에이드런\",\"DOMAIN_NAME\":\"withadren.com\",\"TEL\":\"확인안됨\",\"EMAIL\":\"adren@withadren.com\",\"UPJONG_NBR\":\"\",\"YPFORM\":\" 일반쇼핑몰\",\"FIRST_HEO_DATE\":\"2021-10-21\",\"COM_ADDR\":\"서울특별시 마포구 성미산로15길 97, 2층\",\"STAT_NM\":\"등록정보불일치\",\"TOT_RATINGPOINT\":\"2\",\"CHOGI_RATINGPOINT\":\"2\",\"CHUNG_RATINGPOINT\":\"3\",\"DEAL_RATINGPOINT\":\"3\",\"PYOJUN_RATINGPOINT\":\"1\",\"SECURITY_RATINGPOINT\":\"3\",\"SERVICE\":\" 신발/가방/패션잡화/귀금속 가구/생활/주방\",\"CHUNG\":\"가능\",\"CHOGI\":\" 상호 대표자 소재지 전자우편주소 사업자등록번호 사이버몰이용약관 통신판매신고번호\",\"GYULJE\":\" 현금입금(무통장,계좌이체등) 신용카드 간편결제 휴대폰 기타\",\"PYOJUN\":\"자체약관 사용\",\"P_INFO_CARE\":\"초기화면표시\",\"PER_INFO\":\"\",\"DEAL_CARE\":\"에스크로제도\",\"SSL_YN\":\"\",\"INJEUNG\":\"\",\"BAESONG_YEJEONG\":\"있다\",\"BAESONG\":\"소비자(반품택배비만 부담)\",\"CLIENT_BBS\":\"있다(공개)\",\"LEAVE\":\"회원탈퇴 가능\",\"KAESOL_YEAR\":\"알수없음\",\"REG_DATE\":\"2022-07-26\"},{\"COMPANY\":\"주식회사 엘에이알\",\"SHOP_NAME\":\"LAR / 엘에이알\",\"DOMAIN_NAME\":\"larshoes.com\",\"TEL\":\"02-499-1110\",\"EMAIL\":\"info@larshoes.com\",\"UPJONG_NBR\":\"\",\"YPFORM\":\" 일반쇼핑몰\",\"FIRST_HEO_DATE\":\"2020-05-25\",\"COM_ADDR\":\"서울특별시 성동구 서울숲길 54 (성수동1가)\",\"STAT_NM\":\"등록정보불일치\",\"TOT_RATINGPOINT\":\"3\",\"CHOGI_RATINGPOINT\":\"3\",\"CHUNG_RATINGPOINT\":\"3\",\"DEAL_RATINGPOINT\":\"3\",\"PYOJUN_RATINGPOINT\":\"3\",\"SECURITY_RATINGPOINT\":\"3\",\"SERVICE\":\" 신발/가방/패션잡화/귀금속\",\"CHUNG\":\"가능\",\"CHOGI\":\" 상호 대표자 소재지 전화번호 전자우편주소 사업자등록번호 사이버몰이용약관 통신판매신고번호 호스팅 사업자\",\"GYULJE\":\" 현금입금(무통장,계좌이체등) 신용카드 간편결제 휴대폰 기타\",\"PYOJUN\":\"표준약관 사용\",\"P_INFO_CARE\":\"초기화면표시\",\"PER_INFO\":\"\",\"DEAL_CARE\":\"에스크로제도\",\"SSL_YN\":\"\",\"INJEUNG\":\"\",\"BAESONG_YEJEONG\":\"있다\",\"BAESONG\":\"소비자(왕복택배비 부담)\",\"CLIENT_BBS\":\"있다(공개)\",\"LEAVE\":\"회원탈퇴 가능\",\"KAESOL_YEAR\":\"2020\",\"REG_DATE\":\"2022-07-25\"},{\"COMPANY\":\"(주)우드락공작소\",\"SHOP_NAME\":\"우드락공작소/woodrock\",\"DOMAIN_NAME\":\"https://woodrock.kr/\",\"TEL\":\"02-2663-7020\",\"EMAIL\":\"anidream76@naver.com\",\"UPJONG_NBR\":\"\",\"YPFORM\":\" 일반쇼핑몰\",\"FIRST_HEO_DATE\":\"2019-03-05\",\"COM_ADDR\":\"서울특별시 강서구 금낭화로 95(방화동) 지하1층\",\"STAT_NM\":\"영업중\",\"TOT_RATINGPOINT\":\"2\",\"CHOGI_RATINGPOINT\":\"3\",\"CHUNG_RATINGPOINT\":\"3\",\"DEAL_RATINGPOINT\":\"1\",\"PYOJUN_RATINGPOINT\":\"3\",\"SECURITY_RATINGPOINT\":\"3\",\"SERVICE\":\" 가전용전기제품/영상, 생활 가구/생활/주방 출산/유아동/완구\",\"CHUNG\":\"가능\",\"CHOGI\":\" 상호 대표자 소재지 전화번호 전자우편주소 사업자등록번호 사이버몰이용약관 통신판매신고번호 호스팅 사업자\",\"GYULJE\":\" 현금입금(무통장,계좌이체등) 신용카드 간편결제\",\"PYOJUN\":\"표준약관 사용\",\"P_INFO_CARE\":\"초기화면표시\",\"PER_INFO\":\"\",\"DEAL_CARE\":\"구매안전서비스없음\",\"SSL_YN\":\"\",\"INJEUNG\":\"\",\"BAESONG_YEJEONG\":\"있다\",\"BAESONG\":\"소비자(반품택배비만 부담)\",\"CLIENT_BBS\":\"있다(공개)\",\"LEAVE\":\"회원탈퇴 가능\",\"KAESOL_YEAR\":\"2016\",\"REG_DATE\":\"2022-07-25\"}]}}'"
      ]
     },
     "execution_count": 41,
     "metadata": {},
     "output_type": "execute_result"
    }
   ],
   "source": [
    "json_utf8 = json_raw.decode(\"utf-8\")\n",
    "json_utf8"
   ]
  },
  {
   "cell_type": "code",
   "execution_count": 42,
   "id": "4e515911",
   "metadata": {},
   "outputs": [],
   "source": [
    "json_complete = json.loads(json_utf8)"
   ]
  },
  {
   "cell_type": "code",
   "execution_count": 43,
   "id": "777b2ceb",
   "metadata": {},
   "outputs": [
    {
     "data": {
      "text/plain": [
       "dict"
      ]
     },
     "execution_count": 43,
     "metadata": {},
     "output_type": "execute_result"
    }
   ],
   "source": [
    "type(json_complete)"
   ]
  },
  {
   "cell_type": "code",
   "execution_count": 44,
   "id": "5ed32f6e",
   "metadata": {},
   "outputs": [
    {
     "data": {
      "text/html": [
       "<div>\n",
       "<style scoped>\n",
       "    .dataframe tbody tr th:only-of-type {\n",
       "        vertical-align: middle;\n",
       "    }\n",
       "\n",
       "    .dataframe tbody tr th {\n",
       "        vertical-align: top;\n",
       "    }\n",
       "\n",
       "    .dataframe thead th {\n",
       "        text-align: right;\n",
       "    }\n",
       "</style>\n",
       "<table border=\"1\" class=\"dataframe\">\n",
       "  <thead>\n",
       "    <tr style=\"text-align: right;\">\n",
       "      <th></th>\n",
       "      <th>ServiceInternetShopInfo.list_total_count</th>\n",
       "      <th>ServiceInternetShopInfo.RESULT.CODE</th>\n",
       "      <th>ServiceInternetShopInfo.RESULT.MESSAGE</th>\n",
       "      <th>ServiceInternetShopInfo.row</th>\n",
       "    </tr>\n",
       "  </thead>\n",
       "  <tbody>\n",
       "    <tr>\n",
       "      <th>0</th>\n",
       "      <td>135379</td>\n",
       "      <td>INFO-000</td>\n",
       "      <td>정상 처리되었습니다</td>\n",
       "      <td>[{'COMPANY': '주식회사 클린씨', 'SHOP_NAME': 'cleanc/...</td>\n",
       "    </tr>\n",
       "  </tbody>\n",
       "</table>\n",
       "</div>"
      ],
      "text/plain": [
       "   ServiceInternetShopInfo.list_total_count  \\\n",
       "0                                    135379   \n",
       "\n",
       "  ServiceInternetShopInfo.RESULT.CODE ServiceInternetShopInfo.RESULT.MESSAGE  \\\n",
       "0                            INFO-000                             정상 처리되었습니다   \n",
       "\n",
       "                         ServiceInternetShopInfo.row  \n",
       "0  [{'COMPANY': '주식회사 클린씨', 'SHOP_NAME': 'cleanc/...  "
      ]
     },
     "execution_count": 44,
     "metadata": {},
     "output_type": "execute_result"
    }
   ],
   "source": [
    "pd.json_normalize(json_complete)"
   ]
  },
  {
   "cell_type": "code",
   "execution_count": 45,
   "id": "54f1a1fa",
   "metadata": {},
   "outputs": [],
   "source": [
    "box_result = pd.json_normalize(json_complete['ServiceInternetShopInfo']['row'])"
   ]
  },
  {
   "cell_type": "code",
   "execution_count": 46,
   "id": "d5f44905",
   "metadata": {},
   "outputs": [
    {
     "data": {
      "text/html": [
       "<div>\n",
       "<style scoped>\n",
       "    .dataframe tbody tr th:only-of-type {\n",
       "        vertical-align: middle;\n",
       "    }\n",
       "\n",
       "    .dataframe tbody tr th {\n",
       "        vertical-align: top;\n",
       "    }\n",
       "\n",
       "    .dataframe thead th {\n",
       "        text-align: right;\n",
       "    }\n",
       "</style>\n",
       "<table border=\"1\" class=\"dataframe\">\n",
       "  <thead>\n",
       "    <tr style=\"text-align: right;\">\n",
       "      <th></th>\n",
       "      <th>COMPANY</th>\n",
       "      <th>SHOP_NAME</th>\n",
       "      <th>DOMAIN_NAME</th>\n",
       "      <th>TEL</th>\n",
       "      <th>EMAIL</th>\n",
       "      <th>UPJONG_NBR</th>\n",
       "      <th>YPFORM</th>\n",
       "      <th>FIRST_HEO_DATE</th>\n",
       "      <th>COM_ADDR</th>\n",
       "      <th>STAT_NM</th>\n",
       "      <th>...</th>\n",
       "      <th>PER_INFO</th>\n",
       "      <th>DEAL_CARE</th>\n",
       "      <th>SSL_YN</th>\n",
       "      <th>INJEUNG</th>\n",
       "      <th>BAESONG_YEJEONG</th>\n",
       "      <th>BAESONG</th>\n",
       "      <th>CLIENT_BBS</th>\n",
       "      <th>LEAVE</th>\n",
       "      <th>KAESOL_YEAR</th>\n",
       "      <th>REG_DATE</th>\n",
       "    </tr>\n",
       "  </thead>\n",
       "  <tbody>\n",
       "    <tr>\n",
       "      <th>0</th>\n",
       "      <td>주식회사 클린씨</td>\n",
       "      <td>cleanc/클린씨</td>\n",
       "      <td>www.cleanc.kr</td>\n",
       "      <td>02-529-1845</td>\n",
       "      <td>info@cleanc.kr</td>\n",
       "      <td></td>\n",
       "      <td></td>\n",
       "      <td>2018-11-02</td>\n",
       "      <td>서울특별시 송파구 충민로66 가든파이브라이프 테크노관 제9층 9089,9096호</td>\n",
       "      <td>광고용(홍보용)</td>\n",
       "      <td>...</td>\n",
       "      <td></td>\n",
       "      <td></td>\n",
       "      <td></td>\n",
       "      <td></td>\n",
       "      <td></td>\n",
       "      <td></td>\n",
       "      <td></td>\n",
       "      <td></td>\n",
       "      <td></td>\n",
       "      <td>2022-07-26</td>\n",
       "    </tr>\n",
       "    <tr>\n",
       "      <th>1</th>\n",
       "      <td>(주)아이우디</td>\n",
       "      <td>아이우디/iwoodiy</td>\n",
       "      <td>iwoodiy.com</td>\n",
       "      <td>02-929-2144/</td>\n",
       "      <td>iwoodiy1@naver.com</td>\n",
       "      <td></td>\n",
       "      <td>일반쇼핑몰</td>\n",
       "      <td>2020-04-03</td>\n",
       "      <td>서울특별시 성북구 보문로 42</td>\n",
       "      <td>영업중</td>\n",
       "      <td>...</td>\n",
       "      <td></td>\n",
       "      <td>에스크로제도</td>\n",
       "      <td></td>\n",
       "      <td></td>\n",
       "      <td>있다</td>\n",
       "      <td>철회 안 됨</td>\n",
       "      <td>있다(비공개)</td>\n",
       "      <td>회원탈퇴 가능</td>\n",
       "      <td>2021</td>\n",
       "      <td>2022-07-26</td>\n",
       "    </tr>\n",
       "    <tr>\n",
       "      <th>2</th>\n",
       "      <td>주식회사 에이드런</td>\n",
       "      <td>adren/에이드런</td>\n",
       "      <td>withadren.com</td>\n",
       "      <td>확인안됨</td>\n",
       "      <td>adren@withadren.com</td>\n",
       "      <td></td>\n",
       "      <td>일반쇼핑몰</td>\n",
       "      <td>2021-10-21</td>\n",
       "      <td>서울특별시 마포구 성미산로15길 97, 2층</td>\n",
       "      <td>등록정보불일치</td>\n",
       "      <td>...</td>\n",
       "      <td></td>\n",
       "      <td>에스크로제도</td>\n",
       "      <td></td>\n",
       "      <td></td>\n",
       "      <td>있다</td>\n",
       "      <td>소비자(반품택배비만 부담)</td>\n",
       "      <td>있다(공개)</td>\n",
       "      <td>회원탈퇴 가능</td>\n",
       "      <td>알수없음</td>\n",
       "      <td>2022-07-26</td>\n",
       "    </tr>\n",
       "    <tr>\n",
       "      <th>3</th>\n",
       "      <td>주식회사 엘에이알</td>\n",
       "      <td>LAR / 엘에이알</td>\n",
       "      <td>larshoes.com</td>\n",
       "      <td>02-499-1110</td>\n",
       "      <td>info@larshoes.com</td>\n",
       "      <td></td>\n",
       "      <td>일반쇼핑몰</td>\n",
       "      <td>2020-05-25</td>\n",
       "      <td>서울특별시 성동구 서울숲길 54 (성수동1가)</td>\n",
       "      <td>등록정보불일치</td>\n",
       "      <td>...</td>\n",
       "      <td></td>\n",
       "      <td>에스크로제도</td>\n",
       "      <td></td>\n",
       "      <td></td>\n",
       "      <td>있다</td>\n",
       "      <td>소비자(왕복택배비 부담)</td>\n",
       "      <td>있다(공개)</td>\n",
       "      <td>회원탈퇴 가능</td>\n",
       "      <td>2020</td>\n",
       "      <td>2022-07-25</td>\n",
       "    </tr>\n",
       "    <tr>\n",
       "      <th>4</th>\n",
       "      <td>(주)우드락공작소</td>\n",
       "      <td>우드락공작소/woodrock</td>\n",
       "      <td>https://woodrock.kr/</td>\n",
       "      <td>02-2663-7020</td>\n",
       "      <td>anidream76@naver.com</td>\n",
       "      <td></td>\n",
       "      <td>일반쇼핑몰</td>\n",
       "      <td>2019-03-05</td>\n",
       "      <td>서울특별시 강서구 금낭화로 95(방화동) 지하1층</td>\n",
       "      <td>영업중</td>\n",
       "      <td>...</td>\n",
       "      <td></td>\n",
       "      <td>구매안전서비스없음</td>\n",
       "      <td></td>\n",
       "      <td></td>\n",
       "      <td>있다</td>\n",
       "      <td>소비자(반품택배비만 부담)</td>\n",
       "      <td>있다(공개)</td>\n",
       "      <td>회원탈퇴 가능</td>\n",
       "      <td>2016</td>\n",
       "      <td>2022-07-25</td>\n",
       "    </tr>\n",
       "  </tbody>\n",
       "</table>\n",
       "<p>5 rows × 32 columns</p>\n",
       "</div>"
      ],
      "text/plain": [
       "     COMPANY        SHOP_NAME           DOMAIN_NAME           TEL  \\\n",
       "0   주식회사 클린씨       cleanc/클린씨         www.cleanc.kr   02-529-1845   \n",
       "1    (주)아이우디     아이우디/iwoodiy           iwoodiy.com  02-929-2144/   \n",
       "2  주식회사 에이드런       adren/에이드런         withadren.com          확인안됨   \n",
       "3  주식회사 엘에이알       LAR / 엘에이알          larshoes.com   02-499-1110   \n",
       "4  (주)우드락공작소  우드락공작소/woodrock  https://woodrock.kr/  02-2663-7020   \n",
       "\n",
       "                  EMAIL UPJONG_NBR  YPFORM FIRST_HEO_DATE  \\\n",
       "0        info@cleanc.kr                        2018-11-02   \n",
       "1    iwoodiy1@naver.com              일반쇼핑몰     2020-04-03   \n",
       "2   adren@withadren.com              일반쇼핑몰     2021-10-21   \n",
       "3     info@larshoes.com              일반쇼핑몰     2020-05-25   \n",
       "4  anidream76@naver.com              일반쇼핑몰     2019-03-05   \n",
       "\n",
       "                                       COM_ADDR   STAT_NM  ... PER_INFO  \\\n",
       "0  서울특별시 송파구 충민로66 가든파이브라이프 테크노관 제9층 9089,9096호  광고용(홍보용)  ...            \n",
       "1                              서울특별시 성북구 보문로 42       영업중  ...            \n",
       "2                      서울특별시 마포구 성미산로15길 97, 2층   등록정보불일치  ...            \n",
       "3                     서울특별시 성동구 서울숲길 54 (성수동1가)   등록정보불일치  ...            \n",
       "4                   서울특별시 강서구 금낭화로 95(방화동) 지하1층       영업중  ...            \n",
       "\n",
       "   DEAL_CARE SSL_YN INJEUNG BAESONG_YEJEONG         BAESONG CLIENT_BBS  \\\n",
       "0                                                                        \n",
       "1     에스크로제도                             있다          철회 안 됨    있다(비공개)   \n",
       "2     에스크로제도                             있다  소비자(반품택배비만 부담)     있다(공개)   \n",
       "3     에스크로제도                             있다   소비자(왕복택배비 부담)     있다(공개)   \n",
       "4  구매안전서비스없음                             있다  소비자(반품택배비만 부담)     있다(공개)   \n",
       "\n",
       "     LEAVE KAESOL_YEAR    REG_DATE  \n",
       "0                       2022-07-26  \n",
       "1  회원탈퇴 가능        2021  2022-07-26  \n",
       "2  회원탈퇴 가능        알수없음  2022-07-26  \n",
       "3  회원탈퇴 가능        2020  2022-07-25  \n",
       "4  회원탈퇴 가능        2016  2022-07-25  \n",
       "\n",
       "[5 rows x 32 columns]"
      ]
     },
     "execution_count": 46,
     "metadata": {},
     "output_type": "execute_result"
    }
   ],
   "source": [
    "box_result"
   ]
  },
  {
   "cell_type": "code",
   "execution_count": null,
   "id": "af8a1063",
   "metadata": {},
   "outputs": [],
   "source": []
  },
  {
   "cell_type": "code",
   "execution_count": null,
   "id": "a498dda6",
   "metadata": {},
   "outputs": [],
   "source": []
  },
  {
   "cell_type": "code",
   "execution_count": null,
   "id": "9fc2f3f6",
   "metadata": {},
   "outputs": [],
   "source": []
  },
  {
   "cell_type": "code",
   "execution_count": null,
   "id": "4c4744f4",
   "metadata": {},
   "outputs": [],
   "source": []
  },
  {
   "cell_type": "code",
   "execution_count": null,
   "id": "48a10058",
   "metadata": {},
   "outputs": [],
   "source": []
  },
  {
   "cell_type": "code",
   "execution_count": null,
   "id": "b4cbdd77",
   "metadata": {},
   "outputs": [],
   "source": []
  },
  {
   "cell_type": "code",
   "execution_count": null,
   "id": "84ad07c8",
   "metadata": {},
   "outputs": [],
   "source": []
  },
  {
   "cell_type": "code",
   "execution_count": null,
   "id": "4c9aa138",
   "metadata": {},
   "outputs": [],
   "source": []
  },
  {
   "cell_type": "code",
   "execution_count": null,
   "id": "eb538b15",
   "metadata": {},
   "outputs": [],
   "source": []
  },
  {
   "cell_type": "code",
   "execution_count": null,
   "id": "6fb8286d",
   "metadata": {},
   "outputs": [],
   "source": []
  },
  {
   "cell_type": "code",
   "execution_count": null,
   "id": "57c52952",
   "metadata": {},
   "outputs": [],
   "source": []
  },
  {
   "cell_type": "code",
   "execution_count": null,
   "id": "d8ec1b16",
   "metadata": {},
   "outputs": [],
   "source": []
  },
  {
   "cell_type": "code",
   "execution_count": null,
   "id": "995b7d83",
   "metadata": {},
   "outputs": [],
   "source": []
  },
  {
   "cell_type": "code",
   "execution_count": null,
   "id": "2eceaa5d",
   "metadata": {},
   "outputs": [],
   "source": []
  },
  {
   "cell_type": "code",
   "execution_count": null,
   "id": "ebdffee0",
   "metadata": {},
   "outputs": [],
   "source": []
  },
  {
   "cell_type": "code",
   "execution_count": null,
   "id": "8720805f",
   "metadata": {},
   "outputs": [],
   "source": []
  },
  {
   "cell_type": "code",
   "execution_count": null,
   "id": "5a05c315",
   "metadata": {},
   "outputs": [],
   "source": []
  },
  {
   "cell_type": "code",
   "execution_count": null,
   "id": "541f14a1",
   "metadata": {},
   "outputs": [],
   "source": []
  },
  {
   "cell_type": "code",
   "execution_count": null,
   "id": "86c1fd28",
   "metadata": {},
   "outputs": [],
   "source": []
  },
  {
   "cell_type": "code",
   "execution_count": null,
   "id": "ed39f9b3",
   "metadata": {},
   "outputs": [],
   "source": []
  },
  {
   "cell_type": "code",
   "execution_count": null,
   "id": "9139f597",
   "metadata": {},
   "outputs": [],
   "source": []
  },
  {
   "cell_type": "code",
   "execution_count": null,
   "id": "7790998e",
   "metadata": {},
   "outputs": [],
   "source": []
  },
  {
   "cell_type": "code",
   "execution_count": null,
   "id": "5c96c09f",
   "metadata": {},
   "outputs": [],
   "source": []
  },
  {
   "cell_type": "code",
   "execution_count": null,
   "id": "94df3b40",
   "metadata": {},
   "outputs": [],
   "source": []
  },
  {
   "cell_type": "code",
   "execution_count": null,
   "id": "f9730543",
   "metadata": {},
   "outputs": [],
   "source": []
  },
  {
   "cell_type": "code",
   "execution_count": null,
   "id": "787fe630",
   "metadata": {},
   "outputs": [],
   "source": []
  },
  {
   "cell_type": "code",
   "execution_count": null,
   "id": "66e53400",
   "metadata": {},
   "outputs": [],
   "source": []
  },
  {
   "cell_type": "code",
   "execution_count": null,
   "id": "cee0cd2f",
   "metadata": {},
   "outputs": [],
   "source": []
  }
 ],
 "metadata": {
  "kernelspec": {
   "display_name": "Python 3 (ipykernel)",
   "language": "python",
   "name": "python3"
  },
  "language_info": {
   "codemirror_mode": {
    "name": "ipython",
    "version": 3
   },
   "file_extension": ".py",
   "mimetype": "text/x-python",
   "name": "python",
   "nbconvert_exporter": "python",
   "pygments_lexer": "ipython3",
   "version": "3.9.12"
  }
 },
 "nbformat": 4,
 "nbformat_minor": 5
}
