{
 "cells": [
  {
   "cell_type": "code",
   "execution_count": 3,
   "id": "628c0110",
   "metadata": {},
   "outputs": [
    {
     "data": {
      "text/plain": [
       "10"
      ]
     },
     "execution_count": 3,
     "metadata": {},
     "output_type": "execute_result"
    }
   ],
   "source": [
    "a = 10\n",
    "a"
   ]
  },
  {
   "cell_type": "markdown",
   "id": "0e0c6b5d",
   "metadata": {},
   "source": [
    "# << 연습문제>>\n",
    "\n",
    "## 아래 문장에 대한 조건을 만족하는 포매팅을 작성해주세요\n",
    "> 날짜 : 2022-07-26/출석률 : 88%\n",
    "- 전달하는 값 : 4개\n",
    "- 출석한 학생 수 : 16개\n",
    "- 총 학생 수 : 18명\n",
    "- 춣석률은 소수점 첫 번째 자리에서 반올림 적용"
   ]
  },
  {
   "cell_type": "code",
   "execution_count": 8,
   "id": "f3486954",
   "metadata": {},
   "outputs": [
    {
     "data": {
      "text/plain": [
       "'날짜 : 2022-7-26/출석률 : 0.89%'"
      ]
     },
     "execution_count": 8,
     "metadata": {},
     "output_type": "execute_result"
    }
   ],
   "source": [
    "'날짜 : %d-%s-%d/출석률 : %0.2f%%' % (2022, 7, 26 , (16/18))"
   ]
  },
  {
   "cell_type": "markdown",
   "id": "f30efff0",
   "metadata": {},
   "source": [
    "## > 문자열 내장함수* = 문자열 메서드\n",
    "\n",
    "    └≫ 내장함수 : 특정 데이터 타입이 자체적으로 가지고 있는 속성으로 존재하는 함수\n",
    "    └≫ 문법 : 변수(데이터타입값).함수명()\n",
    "\n",
    "\n",
    "* count( ) : 특정 문자의 개수\n",
    "\n",
    "\n",
    "* find( ) :특정 문자의 인덱스 번호(위치)\n",
    "\n",
    "\n",
    "* join( ) : 특정 기호를 문자열 아이템 사이에 입력\n",
    "\n",
    "\n",
    "* upper( ) : 문자열을 대문자로 변경\n",
    "\n",
    "\n",
    "* lower( ) : 문자열을 소문자로 변경\n",
    "\n",
    "\n",
    "* capitalize( ) : 문자열의 첫 글자를 대문자로\n",
    "\n",
    "\n",
    "* swapcase( ) : 대문자는 소문자로, 소문자는 대문자로 전환\n",
    "\n",
    "\n",
    "* lstrip( ) / rstrip( ) / strip( ) : 좌 / 우 / 앞뒤 공백(기본) 및 특정 문자 지우기\n",
    "\n",
    "\n",
    "* replace( ) : 기존 문자를 새로운 문자로 바꾸기\n",
    "\n",
    "\n",
    "* split( ) : 특정 기호를 기준으로 문자열을 아이템 단위로 나누어 리스트로 반환\n",
    "\n",
    "\n",
    "* center( ) : 문자열 길이를 지정하여 대상 문자열을 중앙 정렬\n",
    "\n",
    "\n",
    "* ljust( ) : 문자열 길이를 지정하여 대상 문자열을 왼쪽 정렬\n",
    "\n",
    "\n",
    "* rjust( ) : 문자열 길이를 지정하여 대상 문자열을 오른쪽 정렬"
   ]
  },
  {
   "cell_type": "code",
   "execution_count": 10,
   "id": "6aa9db17",
   "metadata": {},
   "outputs": [],
   "source": [
    "#문자열 생성\n",
    "text = 'tomato juice'"
   ]
  },
  {
   "cell_type": "code",
   "execution_count": 13,
   "id": "d5c7cb9d",
   "metadata": {},
   "outputs": [
    {
     "data": {
      "text/plain": [
       "1"
      ]
     },
     "execution_count": 13,
     "metadata": {},
     "output_type": "execute_result"
    }
   ],
   "source": [
    "# count()\n",
    "# 해당 문자열 내부에 내가 찾고싶은 문자, 단어가 몇 개가 있는지 세어줌\n",
    "text.count('to')"
   ]
  },
  {
   "cell_type": "code",
   "execution_count": 17,
   "id": "3b010027",
   "metadata": {},
   "outputs": [
    {
     "data": {
      "text/plain": [
       "4"
      ]
     },
     "execution_count": 17,
     "metadata": {},
     "output_type": "execute_result"
    }
   ],
   "source": [
    "# find()\n",
    "# txt 문자열에서의 a의 인덱스 번호\n",
    "# fidn('찾을자료', 시작인덱스) 를 적어주면 특정 인덱스부터만 찾아볼수도 있음\n",
    "# 없는 자료 조회시 -1 이라는 인덱스를 리턴\n",
    "text.find('to', 1)"
   ]
  },
  {
   "cell_type": "code",
   "execution_count": 18,
   "id": "24d5fd6d",
   "metadata": {},
   "outputs": [
    {
     "data": {
      "text/plain": [
       "'TOMATO JUICE'"
      ]
     },
     "execution_count": 18,
     "metadata": {},
     "output_type": "execute_result"
    }
   ],
   "source": [
    "# upper()\n",
    "# 변경한 결과를 시뮬레이션해서 보여줌 (원본자료는 변경되지 않음)\n",
    "text.upper()"
   ]
  },
  {
   "cell_type": "code",
   "execution_count": 19,
   "id": "e8aeef29",
   "metadata": {},
   "outputs": [
    {
     "data": {
      "text/plain": [
       "'TOMATO JUICE'"
      ]
     },
     "execution_count": 19,
     "metadata": {},
     "output_type": "execute_result"
    }
   ],
   "source": [
    "# lower()\n",
    "text2 = text.upper()\n",
    "text2"
   ]
  },
  {
   "cell_type": "code",
   "execution_count": 20,
   "id": "60e127e1",
   "metadata": {},
   "outputs": [
    {
     "data": {
      "text/plain": [
       "'tomato juice'"
      ]
     },
     "execution_count": 20,
     "metadata": {},
     "output_type": "execute_result"
    }
   ],
   "source": [
    "text2.lower()"
   ]
  },
  {
   "cell_type": "code",
   "execution_count": 21,
   "id": "2491c240",
   "metadata": {},
   "outputs": [
    {
     "data": {
      "text/plain": [
       "'TOMATO JUICE'"
      ]
     },
     "execution_count": 21,
     "metadata": {},
     "output_type": "execute_result"
    }
   ],
   "source": [
    "text2"
   ]
  },
  {
   "cell_type": "code",
   "execution_count": 25,
   "id": "94caf5eb",
   "metadata": {},
   "outputs": [
    {
     "data": {
      "text/plain": [
       "'                           123                       123                  '"
      ]
     },
     "execution_count": 25,
     "metadata": {},
     "output_type": "execute_result"
    }
   ],
   "source": [
    "text3 = '                           123                       123                  '\n",
    "text3"
   ]
  },
  {
   "cell_type": "code",
   "execution_count": 27,
   "id": "a2ee5dcc",
   "metadata": {},
   "outputs": [
    {
     "data": {
      "text/plain": [
       "'123                       123                  '"
      ]
     },
     "execution_count": 27,
     "metadata": {},
     "output_type": "execute_result"
    }
   ],
   "source": [
    "# lstrip()\n",
    "# 문자열의 왼쪽에 있는 공백 전부 제거(가운데는 제거 안함)\n",
    "# 바로 반영되지 않고, 시뮬레이션 결과만 확인할 수 있음\n",
    "text3.lstrip()"
   ]
  },
  {
   "cell_type": "code",
   "execution_count": 28,
   "id": "256d831f",
   "metadata": {},
   "outputs": [
    {
     "data": {
      "text/plain": [
       "'                           123                       123'"
      ]
     },
     "execution_count": 28,
     "metadata": {},
     "output_type": "execute_result"
    }
   ],
   "source": [
    "# rstrip() : 오른쪽\n",
    "text3.rstrip()"
   ]
  },
  {
   "cell_type": "code",
   "execution_count": 29,
   "id": "4c252c14",
   "metadata": {},
   "outputs": [
    {
     "data": {
      "text/plain": [
       "'123                       123'"
      ]
     },
     "execution_count": 29,
     "metadata": {},
     "output_type": "execute_result"
    }
   ],
   "source": [
    "# strip() : 양쪽 모두\n",
    "text3.strip()"
   ]
  },
  {
   "cell_type": "code",
   "execution_count": 31,
   "id": "82391bf9",
   "metadata": {},
   "outputs": [
    {
     "data": {
      "text/plain": [
       "'                           456                       456                  '"
      ]
     },
     "execution_count": 31,
     "metadata": {},
     "output_type": "execute_result"
    }
   ],
   "source": [
    "# replace (old.new)\n",
    "# 찾아바꾸기, 문자열 내에서 old 에 해당하는 문자를 찾아 new로 싹 다 교체\n",
    "# 공백 찾아 없애기에 쓸 수 있음\n",
    "# 역시 원본 자료에 바로 저장하지 않고, 일시적으로 변경된 결과만 보여줌\n",
    "text3.replace('123', '456')"
   ]
  },
  {
   "cell_type": "code",
   "execution_count": 34,
   "id": "aef3e884",
   "metadata": {},
   "outputs": [
    {
     "data": {
      "text/plain": [
       "'123123'"
      ]
     },
     "execution_count": 34,
     "metadata": {},
     "output_type": "execute_result"
    }
   ],
   "source": [
    "text3.replace(' ', '')"
   ]
  },
  {
   "cell_type": "code",
   "execution_count": 35,
   "id": "202af816",
   "metadata": {},
   "outputs": [
    {
     "data": {
      "text/plain": [
       "'a b c'"
      ]
     },
     "execution_count": 35,
     "metadata": {},
     "output_type": "execute_result"
    }
   ],
   "source": [
    "text2 = 'a b c'\n",
    "text2"
   ]
  },
  {
   "cell_type": "code",
   "execution_count": 36,
   "id": "2de0c11a",
   "metadata": {},
   "outputs": [
    {
     "data": {
      "text/plain": [
       "['a', 'b', 'c']"
      ]
     },
     "execution_count": 36,
     "metadata": {},
     "output_type": "execute_result"
    }
   ],
   "source": [
    "# .split(\"기준\")\n",
    "# 쪼개기\n",
    "# 기준 입력시 기준점을 기준으로 쪼개고 입력 안하면 ' ', \\n, \\t 등을 기준으로 쪼개줌\n",
    "text2.split()"
   ]
  },
  {
   "cell_type": "code",
   "execution_count": 38,
   "id": "99890563",
   "metadata": {},
   "outputs": [],
   "source": [
    "text3 = 'a,b,c,ddes'"
   ]
  },
  {
   "cell_type": "code",
   "execution_count": 39,
   "id": "3e20351f",
   "metadata": {},
   "outputs": [
    {
     "data": {
      "text/plain": [
       "['a', 'b', 'c', 'ddes']"
      ]
     },
     "execution_count": 39,
     "metadata": {},
     "output_type": "execute_result"
    }
   ],
   "source": [
    "# 기준 설정시 공백이 아닌 기준문자를 직접 입력해 쪼개기\n",
    "# \",\" 를 대상으로 쪼갤 경우 나오는 text3의 결과물은 4개\n",
    "text3.split(\",\")"
   ]
  },
  {
   "cell_type": "code",
   "execution_count": 45,
   "id": "80502352",
   "metadata": {},
   "outputs": [
    {
     "data": {
      "text/plain": [
       "'a,,b,,c'"
      ]
     },
     "execution_count": 45,
     "metadata": {},
     "output_type": "execute_result"
    }
   ],
   "source": [
    "# join()\n",
    "# 왼쪽에 있는 요소를 .join(자료)의 \n",
    "# 자료 인덱스 사이사이에 입력해줌\n",
    "text = 'abc'\n",
    "\",,\".join(text)"
   ]
  },
  {
   "cell_type": "code",
   "execution_count": null,
   "id": "07c0001f",
   "metadata": {},
   "outputs": [],
   "source": [
    "# 마지막 인덱스 번호 = -1을 써도 되지만 len(문자열) -1 해도 됩니다"
   ]
  },
  {
   "cell_type": "code",
   "execution_count": 46,
   "id": "7b7eb994",
   "metadata": {},
   "outputs": [],
   "source": [
    "x = 'abcdefg'"
   ]
  },
  {
   "cell_type": "code",
   "execution_count": 48,
   "id": "34ab14c9",
   "metadata": {},
   "outputs": [
    {
     "data": {
      "text/plain": [
       "'g'"
      ]
     },
     "execution_count": 48,
     "metadata": {},
     "output_type": "execute_result"
    }
   ],
   "source": [
    "x[-1]"
   ]
  },
  {
   "cell_type": "code",
   "execution_count": 49,
   "id": "07d9f47c",
   "metadata": {},
   "outputs": [
    {
     "data": {
      "text/plain": [
       "'g'"
      ]
     },
     "execution_count": 49,
     "metadata": {},
     "output_type": "execute_result"
    }
   ],
   "source": [
    "x[len(x)-1]"
   ]
  }
 ],
 "metadata": {
  "kernelspec": {
   "display_name": "Python 3 (ipykernel)",
   "language": "python",
   "name": "python3"
  },
  "language_info": {
   "codemirror_mode": {
    "name": "ipython",
    "version": 3
   },
   "file_extension": ".py",
   "mimetype": "text/x-python",
   "name": "python",
   "nbconvert_exporter": "python",
   "pygments_lexer": "ipython3",
   "version": "3.9.12"
  }
 },
 "nbformat": 4,
 "nbformat_minor": 5
}
