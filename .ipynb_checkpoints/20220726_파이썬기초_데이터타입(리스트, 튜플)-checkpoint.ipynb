{
 "cells": [
  {
   "cell_type": "markdown",
   "id": "c1c6337c",
   "metadata": {},
   "source": [
    "# 자료형\n",
    "\n",
    "여러 개의 아이템들을 저장하는 객체 = 여러 개의 값(데이터타입)을 저장하는 그릇\n",
    "\n",
    "## 1. 리스트(List)\n",
    "\n",
    "▶ 문법 기호 : [아이템1, 아이템2, 아이템3 .... ]\n",
    "\n",
    "\n",
    "▶ 용어 : 아이템 = 요소\n",
    "\n",
    "\n",
    "▶ 아이템으로 가질 수 있는 데이터 타입 : 문자, 숫자, 리스트, 딕셔너리 ...\n",
    "\n",
    "\n",
    "▶ 종류\n",
    "\n",
    "     * 아이템이 없는 리스트\n",
    "    \n",
    "     * 1차원 리스트\n",
    "    \n",
    "     * 다차원 리스트 \n",
    "    \n",
    "    \n",
    "▶ 특징\n",
    "\n",
    "     * 인덱스 활용\n",
    "    \n",
    "     * 다차원 리스트의 구조에 대한 이해"
   ]
  },
  {
   "cell_type": "markdown",
   "id": "6de9a23e",
   "metadata": {},
   "source": [
    "### 1. 생성하기"
   ]
  },
  {
   "cell_type": "code",
   "execution_count": 1,
   "id": "000d1d67",
   "metadata": {},
   "outputs": [
    {
     "name": "stdout",
     "output_type": "stream",
     "text": [
      "<class 'list'> <class 'list'>\n",
      "[] []\n"
     ]
    }
   ],
   "source": [
    "# 빈 리스트 생성하기 = 아이템이 없는 리스트\n",
    "# 문법기호 : []\n",
    "# 함수 : list()\n",
    "a = []\n",
    "a2 = list()\n",
    "print(type(a), type(a2))\n",
    "print(a, a2)"
   ]
  },
  {
   "cell_type": "code",
   "execution_count": 4,
   "id": "4b5dc50c",
   "metadata": {},
   "outputs": [],
   "source": [
    "# 모든 데이터타입을 아이템으로 가질 수 있다\n",
    "a3 = ['a', 10, 1.1, [1, 23.1, 'a']]"
   ]
  },
  {
   "cell_type": "code",
   "execution_count": 7,
   "id": "316fdbc1",
   "metadata": {},
   "outputs": [
    {
     "data": {
      "text/plain": [
       "23.1"
      ]
     },
     "execution_count": 7,
     "metadata": {},
     "output_type": "execute_result"
    }
   ],
   "source": [
    "# 2차원 배열이며. 인덱스를 2개를 써야 하나의 값을 타겟으로 잡을 수 있다\n",
    "a3[3][1]"
   ]
  },
  {
   "cell_type": "code",
   "execution_count": null,
   "id": "a1bded61",
   "metadata": {},
   "outputs": [],
   "source": [
    "# 3차원 배열 예시\n",
    "[1, 2, 3, ,4 ,5, 6]"
   ]
  },
  {
   "cell_type": "markdown",
   "id": "a72fd79f",
   "metadata": {},
   "source": [
    "## 2. 인덱싱, 슬라이싱\n",
    "\n",
    "리스트를 인덱스 번호로 접근하면 해당하는 위치의 값(아이템)을 가져온다\n",
    "\n",
    "복습\n",
    "    -첫 번째 인덱스 번호는 ? = 0번 인덱스 = 첫 번째 아이템\n",
    "    - 마지막 인덱스 번호는 ? = -1 = 마지막 아이템"
   ]
  },
  {
   "cell_type": "markdown",
   "id": "2db789b0",
   "metadata": {},
   "source": [
    "### 인덱싱(indexing)\n",
    "복습 : 특정 위치에 있는 하나의 아이템에 접근한다 = 하나의 값을 가져온다"
   ]
  },
  {
   "cell_type": "code",
   "execution_count": 8,
   "id": "21e72d5a",
   "metadata": {},
   "outputs": [],
   "source": [
    "# 리스트 생성하기\n",
    "a = [1, 2, 3, 4, 5, 6, 7, 8, 9]"
   ]
  },
  {
   "cell_type": "code",
   "execution_count": 9,
   "id": "0ca58ed7",
   "metadata": {},
   "outputs": [
    {
     "data": {
      "text/plain": [
       "1"
      ]
     },
     "execution_count": 9,
     "metadata": {},
     "output_type": "execute_result"
    }
   ],
   "source": [
    "# 첫 번째 아이템 인덱스 번호 : 0\n",
    "# 인덱싱 문법 : 객체[인덱스 번호]\n",
    "a[0]"
   ]
  },
  {
   "cell_type": "code",
   "execution_count": 11,
   "id": "f8af8715",
   "metadata": {},
   "outputs": [
    {
     "data": {
      "text/plain": [
       "6"
      ]
     },
     "execution_count": 11,
     "metadata": {},
     "output_type": "execute_result"
    }
   ],
   "source": [
    "# 리스트에서 6을 가져와주세요\n",
    "a[5]"
   ]
  },
  {
   "cell_type": "code",
   "execution_count": 12,
   "id": "53d71eff",
   "metadata": {},
   "outputs": [
    {
     "data": {
      "text/plain": [
       "9"
      ]
     },
     "execution_count": 12,
     "metadata": {},
     "output_type": "execute_result"
    }
   ],
   "source": [
    "# 리스트의 마지막 값 확인하기\n",
    "a[-1]"
   ]
  },
  {
   "cell_type": "markdown",
   "id": "5255f32c",
   "metadata": {},
   "source": [
    "### 슬라이싱(Slicing)\n",
    "\n",
    "- 정의 복습 : 연속된 범위에 있는 하나 또는 하나 이상의 여러개 아이템에 접근한다.\n",
    "- 문법 기호 : 대상객체(문자열, 리스트)[시작번호:끝번호:간격] => 끝번호는 포함하지 않는다"
   ]
  },
  {
   "cell_type": "code",
   "execution_count": 13,
   "id": "586df883",
   "metadata": {},
   "outputs": [
    {
     "data": {
      "text/plain": [
       "[1, 2, 3, 4, 5, 6, 7, 8, 9]"
      ]
     },
     "execution_count": 13,
     "metadata": {},
     "output_type": "execute_result"
    }
   ],
   "source": [
    "a"
   ]
  },
  {
   "cell_type": "code",
   "execution_count": 14,
   "id": "18e63799",
   "metadata": {},
   "outputs": [
    {
     "data": {
      "text/plain": [
       "[1, 2, 3]"
      ]
     },
     "execution_count": 14,
     "metadata": {},
     "output_type": "execute_result"
    }
   ],
   "source": [
    "# 리스트의 0~2번째 아이템까지 확인하기\n",
    "# 시작번호 : 0\n",
    "# 끝번호 : 2 -> 3\n",
    "a[0:3]"
   ]
  },
  {
   "cell_type": "code",
   "execution_count": 15,
   "id": "56b5c5d4",
   "metadata": {},
   "outputs": [
    {
     "data": {
      "text/plain": [
       "[4, 5, 6, 7, 8, 9]"
      ]
     },
     "execution_count": 15,
     "metadata": {},
     "output_type": "execute_result"
    }
   ],
   "source": [
    "# 리스트의 3번째 아이템부터 마지막 아이템까지 확인하기\n",
    "# 시작번호 : 3\n",
    "# 끝번호 : 생략\n",
    "a[3:]"
   ]
  },
  {
   "cell_type": "markdown",
   "id": "69169997",
   "metadata": {},
   "source": [
    "### << 연습문제>>\n",
    "다음의 4차원 리스트에서 아래 조건에 맞는 값을 출력해주세요\n",
    "      \n",
    "      a = [1,2,3, ['a', [100,200,['강남','서울'], 300,], 'b','c']]\n",
    "      \n",
    "      출력결과 = 강남 & 300 & c\n",
    "      \n",
    "      포매팅을 써서 해주세요"
   ]
  },
  {
   "cell_type": "code",
   "execution_count": 17,
   "id": "76ddd9b6",
   "metadata": {},
   "outputs": [],
   "source": [
    " a = [1,2,3, ['a', [100,200,['강남','서울'], 300,], 'b','c']]"
   ]
  },
  {
   "cell_type": "code",
   "execution_count": 49,
   "id": "a3bfafed",
   "metadata": {},
   "outputs": [
    {
     "data": {
      "text/plain": [
       "'강남'"
      ]
     },
     "execution_count": 49,
     "metadata": {},
     "output_type": "execute_result"
    }
   ],
   "source": [
    "value1 = a[3][1][2][0]\n",
    "value1"
   ]
  },
  {
   "cell_type": "code",
   "execution_count": 50,
   "id": "2a2b6a31",
   "metadata": {},
   "outputs": [
    {
     "data": {
      "text/plain": [
       "300"
      ]
     },
     "execution_count": 50,
     "metadata": {},
     "output_type": "execute_result"
    }
   ],
   "source": [
    "value2 = a[3][1][3]\n",
    "value2"
   ]
  },
  {
   "cell_type": "code",
   "execution_count": 51,
   "id": "8f82a211",
   "metadata": {},
   "outputs": [
    {
     "data": {
      "text/plain": [
       "'c'"
      ]
     },
     "execution_count": 51,
     "metadata": {},
     "output_type": "execute_result"
    }
   ],
   "source": [
    "value3 = a[3][3]\n",
    "value3"
   ]
  },
  {
   "cell_type": "code",
   "execution_count": 52,
   "id": "240e63f5",
   "metadata": {},
   "outputs": [
    {
     "data": {
      "text/plain": [
       "'출력 결과 = 강남 & 300 & c'"
      ]
     },
     "execution_count": 52,
     "metadata": {},
     "output_type": "execute_result"
    }
   ],
   "source": [
    "\"출력 결과 = %s & %s & %s\" % (value1, value2, value3)"
   ]
  },
  {
   "cell_type": "markdown",
   "id": "1b1d850d",
   "metadata": {},
   "source": [
    "### 3. 아이템 추가하기 : 연산자와 함수를 이용한 리스트 아이템 추가\n",
    "\n",
    "1) 산술연산자 : +,*\n",
    "2) 리스트의 함수(메서드) : 리스트.append(), 리스트.extend(), 리스트.insert()"
   ]
  },
  {
   "cell_type": "markdown",
   "id": "8bf5d7a3",
   "metadata": {},
   "source": [
    "### 3-1) 산술연산자\n",
    "\n",
    "* 종류 : +, *\n",
    "\n",
    "* 특징 : 원본에 반영되지 않는다"
   ]
  },
  {
   "cell_type": "code",
   "execution_count": 54,
   "id": "3199f228",
   "metadata": {},
   "outputs": [],
   "source": [
    "# 리스트끼리 연결하기 : +\n",
    "a = [1, 2, 3]\n",
    "b = [4, 5, 6]"
   ]
  },
  {
   "cell_type": "code",
   "execution_count": 55,
   "id": "c0b6a7fe",
   "metadata": {},
   "outputs": [
    {
     "data": {
      "text/plain": [
       "[4, 5, 6, 4, 5, 6, 4, 5, 6]"
      ]
     },
     "execution_count": 55,
     "metadata": {},
     "output_type": "execute_result"
    }
   ],
   "source": [
    "# 리스트 대상 곱하기 : *\n",
    "b * 3 # b + b + b"
   ]
  },
  {
   "cell_type": "code",
   "execution_count": 56,
   "id": "58cf7f6f",
   "metadata": {},
   "outputs": [
    {
     "data": {
      "text/plain": [
       "[4, 5, 6]"
      ]
     },
     "execution_count": 56,
     "metadata": {},
     "output_type": "execute_result"
    }
   ],
   "source": [
    "b"
   ]
  },
  {
   "cell_type": "markdown",
   "id": "3b3d4f50",
   "metadata": {},
   "source": [
    "### 4. 리스트 타입의 함수 (method)\n",
    "* 종류\n",
    "\n",
    "    - 리스트.append(추가할 아이템) : 인자값을 통채로 리스트의 마지막 아이템으로추가, 인자값은 1개만 받음 = 1개의 아이템만 추가 가능\n",
    "    \n",
    "    - 리스트.extend(추가할 아이템) : 인자값의 아이템을 뽑아서 리스트의 마지막 아이템으로 추가, 인자값은 1개만 받음, 단 여러 개의 아이템\n",
    "                                     추가가능\n",
    "    \n",
    "    - 리스트 .insert(인덱스 번호, 추가할 아이템) : 위치를 지정해서 아이템을 삽입할 수 있음, 통채로 아이템을 추가\n",
    "    \n",
    "    - 특징 : 원본에 바로 적용이됨\n",
    "    \n",
    "* 참고 연산자 : in 연산자(결과값은 bool type)"
   ]
  },
  {
   "cell_type": "code",
   "execution_count": 67,
   "id": "44e385c8",
   "metadata": {},
   "outputs": [
    {
     "data": {
      "text/plain": [
       "[1, 2, 3]"
      ]
     },
     "execution_count": 67,
     "metadata": {},
     "output_type": "execute_result"
    }
   ],
   "source": [
    "# 리스트 생성하기\n",
    "a = [1, 2, 3]\n",
    "a"
   ]
  },
  {
   "cell_type": "code",
   "execution_count": 68,
   "id": "0fb848c5",
   "metadata": {},
   "outputs": [
    {
     "data": {
      "text/plain": [
       "[1, 2, 3, 4]"
      ]
     },
     "execution_count": 68,
     "metadata": {},
     "output_type": "execute_result"
    }
   ],
   "source": [
    "# append()\n",
    "# 문법 : 리스트.append(추가할 아이템)\n",
    "a.append(4)\n",
    "a"
   ]
  },
  {
   "cell_type": "code",
   "execution_count": 69,
   "id": "fa2cd059",
   "metadata": {},
   "outputs": [
    {
     "data": {
      "text/plain": [
       "[1, 2, 3, 4, [5, 6]]"
      ]
     },
     "execution_count": 69,
     "metadata": {},
     "output_type": "execute_result"
    }
   ],
   "source": [
    "# 추가할 자료로 [5,6]을 제공한다면\n",
    "a.append([5,6])\n",
    "a"
   ]
  },
  {
   "cell_type": "code",
   "execution_count": 60,
   "id": "ed6f257c",
   "metadata": {},
   "outputs": [
    {
     "data": {
      "text/plain": [
       "[5, 6]"
      ]
     },
     "execution_count": 60,
     "metadata": {},
     "output_type": "execute_result"
    }
   ],
   "source": [
    "a[4]"
   ]
  },
  {
   "cell_type": "code",
   "execution_count": 70,
   "id": "9ba62c9e",
   "metadata": {},
   "outputs": [
    {
     "data": {
      "text/plain": [
       "[1, 2, 3, 4, [5, 6], 7, 8, 9]"
      ]
     },
     "execution_count": 70,
     "metadata": {},
     "output_type": "execute_result"
    }
   ],
   "source": [
    "# extend()\n",
    "# 문법 : 대상리스트.extend(리스트)\n",
    "# append()와의 차이점 : 인자값으로 리스트만 받을 수 있다.\n",
    "# 리스트 길이만큼 인덱스 길이가 늘어난다(append는 무조건 1만큼만 연장됨)\n",
    "a.extend([7, 8, 9])\n",
    "a"
   ]
  },
  {
   "cell_type": "code",
   "execution_count": 71,
   "id": "4889d678",
   "metadata": {},
   "outputs": [],
   "source": [
    "a.extend([10])"
   ]
  },
  {
   "cell_type": "code",
   "execution_count": 72,
   "id": "38a663b1",
   "metadata": {},
   "outputs": [
    {
     "data": {
      "text/plain": [
       "[1, 2, 3, 4, [5, 6], 7, 8, 9, 10]"
      ]
     },
     "execution_count": 72,
     "metadata": {},
     "output_type": "execute_result"
    }
   ],
   "source": [
    "a"
   ]
  },
  {
   "cell_type": "code",
   "execution_count": 73,
   "id": "e67f8bb5",
   "metadata": {},
   "outputs": [
    {
     "data": {
      "text/plain": [
       "[100, 1, 2, 3, 4, [5, 6], 7, 8, 9, 10]"
      ]
     },
     "execution_count": 73,
     "metadata": {},
     "output_type": "execute_result"
    }
   ],
   "source": [
    "# insert()\n",
    "# 문법 : 대상리스트.insert(인덱스번호, 추가할 아이템)\n",
    "# 다른 함수와의 차이점 : 아이템 추가가 마지막 인덱스가 아닌 지정한 인덱스를 기준으로\n",
    "# append와의 유사점 : 하나의 인덱스에 다 때려박음\n",
    "a.insert(0, 100)\n",
    "a"
   ]
  },
  {
   "cell_type": "code",
   "execution_count": 76,
   "id": "3034ced4",
   "metadata": {},
   "outputs": [
    {
     "data": {
      "text/plain": [
       "False"
      ]
     },
     "execution_count": 76,
     "metadata": {},
     "output_type": "execute_result"
    }
   ],
   "source": [
    "# in 키워드는 특정 요소가 리스트 내에 있는지 없는지 여부를 물어봅니다\n",
    "# 값 in 키워드\n",
    "# 값 100이 a리스트내에 존재하나요? => in a\n",
    "99 in a"
   ]
  },
  {
   "cell_type": "code",
   "execution_count": 77,
   "id": "2df95744",
   "metadata": {},
   "outputs": [
    {
     "data": {
      "text/plain": [
       "True"
      ]
     },
     "execution_count": 77,
     "metadata": {},
     "output_type": "execute_result"
    }
   ],
   "source": [
    "# not in 키워드는 특정 요소가 리스트 내부에 없는지 여부를 물어봅니다\n",
    "# 값 not in 리스트\n",
    "# 50이 a리스트에 존재 안 합니까? -> 50 not in a \n",
    "50 not in a "
   ]
  },
  {
   "cell_type": "markdown",
   "id": "26e6a98f",
   "metadata": {},
   "source": [
    "### << 연습문제 >>\n",
    "\n",
    "아래의 순서에 맞추어 직접 실행해보세요\n",
    "\n",
    "1) 빈 리스트 생성\n",
    "\n",
    "2) 1번 리스트에 숫자 1, 2, 3을 아이템으로 추가\n",
    "\n",
    "3) 2번 리스트의 3번째 위치에 문자 100을 아이템으로 추가\n",
    "\n",
    "4) 3번 리스트의 마지막에 문자 A, B를 아이템으로 가진 리스트를 아이템으로 추가\n",
    "\n",
    "5) 4번 리스트의 아이템을 2번 반복해서 가지는 리스트를 출력"
   ]
  },
  {
   "cell_type": "code",
   "execution_count": 83,
   "id": "1cfea58d",
   "metadata": {},
   "outputs": [],
   "source": [
    "list = []"
   ]
  },
  {
   "cell_type": "code",
   "execution_count": 84,
   "id": "10c01c32",
   "metadata": {},
   "outputs": [
    {
     "data": {
      "text/plain": [
       "[1, 2, 3]"
      ]
     },
     "execution_count": 84,
     "metadata": {},
     "output_type": "execute_result"
    }
   ],
   "source": [
    "list.extend([1, 2, 3])\n",
    "list"
   ]
  },
  {
   "cell_type": "code",
   "execution_count": 85,
   "id": "8eee784d",
   "metadata": {},
   "outputs": [],
   "source": [
    "list.insert(2, \"100\")"
   ]
  },
  {
   "cell_type": "code",
   "execution_count": 88,
   "id": "7e969071",
   "metadata": {},
   "outputs": [],
   "source": [
    "list.append(['A,B'])"
   ]
  },
  {
   "cell_type": "code",
   "execution_count": 89,
   "id": "e456d2bc",
   "metadata": {},
   "outputs": [
    {
     "data": {
      "text/plain": [
       "[1, 2, '100', 3, ['A,B']]"
      ]
     },
     "execution_count": 89,
     "metadata": {},
     "output_type": "execute_result"
    }
   ],
   "source": [
    "list"
   ]
  },
  {
   "cell_type": "code",
   "execution_count": 90,
   "id": "cfa4b757",
   "metadata": {},
   "outputs": [
    {
     "data": {
      "text/plain": [
       "[1, 2, '100', 3, ['A,B'], ['A', 'B', 'A', 'B']]"
      ]
     },
     "execution_count": 90,
     "metadata": {},
     "output_type": "execute_result"
    }
   ],
   "source": [
    "list.append(['A','B'] * 2)\n",
    "list"
   ]
  },
  {
   "cell_type": "code",
   "execution_count": null,
   "id": "1281145d",
   "metadata": {},
   "outputs": [],
   "source": []
  },
  {
   "cell_type": "code",
   "execution_count": null,
   "id": "7abfc7d5",
   "metadata": {},
   "outputs": [],
   "source": []
  },
  {
   "cell_type": "code",
   "execution_count": 3,
   "id": "230b7927",
   "metadata": {},
   "outputs": [],
   "source": [
    "a = [1, 2, 3, 4, 5]\n",
    "b = a"
   ]
  },
  {
   "cell_type": "code",
   "execution_count": 4,
   "id": "4b3725a1",
   "metadata": {},
   "outputs": [],
   "source": [
    "a[0] = 10"
   ]
  },
  {
   "cell_type": "code",
   "execution_count": 5,
   "id": "0847314e",
   "metadata": {},
   "outputs": [
    {
     "name": "stdout",
     "output_type": "stream",
     "text": [
      "[10, 2, 3, 4, 5]\n",
      "[10, 2, 3, 4, 5]\n"
     ]
    }
   ],
   "source": [
    "print(a)\n",
    "print(b)"
   ]
  },
  {
   "cell_type": "code",
   "execution_count": 6,
   "id": "72bb734a",
   "metadata": {},
   "outputs": [],
   "source": [
    "# 2. copy() 메서드로 복사하기\n",
    "c = a.copy()"
   ]
  },
  {
   "cell_type": "code",
   "execution_count": 8,
   "id": "cc9eacac",
   "metadata": {},
   "outputs": [
    {
     "name": "stdout",
     "output_type": "stream",
     "text": [
      "2694399233984 2694399233984\n",
      "2694399233984 2694387671616\n"
     ]
    }
   ],
   "source": [
    "# 파이썬에서는 할당된 주소값을 id(자료)로 조회할 수 있다\n",
    "print(id(a), id(b))\n",
    "print(id(a), id(c))"
   ]
  },
  {
   "cell_type": "code",
   "execution_count": 9,
   "id": "f711eea3",
   "metadata": {},
   "outputs": [
    {
     "name": "stdout",
     "output_type": "stream",
     "text": [
      "[10, 2, 20, 4, 5] [10, 2, 20, 4, 5] [10, 2, 3, 4, 5]\n"
     ]
    }
   ],
   "source": [
    "# a를 변경해도 c는 영향을 받지 않는다\n",
    "a[2] = 20\n",
    "print(a, b, c)"
   ]
  },
  {
   "cell_type": "code",
   "execution_count": 10,
   "id": "bfef2643",
   "metadata": {},
   "outputs": [],
   "source": [
    "# 3. list()로 복사하기\n",
    "# list(자료)를 넣으면 그 자료를 힙에 새롭게 하당해 리스트화한다\n",
    "d = list(c)"
   ]
  },
  {
   "cell_type": "code",
   "execution_count": 11,
   "id": "07eff3be",
   "metadata": {},
   "outputs": [
    {
     "name": "stdout",
     "output_type": "stream",
     "text": [
      "[10, 2, 3, 4, 5] [10, 2, 3, 4, 5]\n"
     ]
    }
   ],
   "source": [
    "print(c,d)"
   ]
  },
  {
   "cell_type": "code",
   "execution_count": 12,
   "id": "2eda6904",
   "metadata": {},
   "outputs": [
    {
     "name": "stdout",
     "output_type": "stream",
     "text": [
      "2694387671616 2694387812992\n"
     ]
    }
   ],
   "source": [
    "# 깊은복사 여부 확인\n",
    "print(id(c), id(d))"
   ]
  },
  {
   "cell_type": "code",
   "execution_count": 13,
   "id": "3371e021",
   "metadata": {},
   "outputs": [
    {
     "name": "stdout",
     "output_type": "stream",
     "text": [
      "2694387812992 2694399240576\n",
      "[10, 2, 3, 4, 5] [10, 2, 3, 4, 5]\n"
     ]
    }
   ],
   "source": [
    "# 4. 슬라이싱 전체범위 지정으로 복사하기\n",
    "e = d[:]\n",
    "print(id(d), id(e))\n",
    "print(d,e)"
   ]
  },
  {
   "cell_type": "markdown",
   "id": "09ef09a4",
   "metadata": {},
   "source": [
    "### << 연습문제 >>\n",
    "\n",
    "1. a 리스트를 이용하여 다음과 같은 문자열을 출력하시오\n",
    "\n",
    "    a = ['Life', 'is', 'too', 'short', 'you', 'need', 'python']\n",
    "    \n",
    "    출력문 : you too"
   ]
  },
  {
   "cell_type": "code",
   "execution_count": 32,
   "id": "7d821a7f",
   "metadata": {},
   "outputs": [
    {
     "data": {
      "text/plain": [
       "['Life', 'is', 'too', 'short', 'you', 'need', 'python']"
      ]
     },
     "execution_count": 32,
     "metadata": {},
     "output_type": "execute_result"
    }
   ],
   "source": [
    "a = ['Life', 'is', 'too', 'short', 'you', 'need', 'python']\n",
    "a"
   ]
  },
  {
   "cell_type": "code",
   "execution_count": 17,
   "id": "6939fcd0",
   "metadata": {},
   "outputs": [
    {
     "data": {
      "text/plain": [
       "['Life', 'is', 'need', 'python', 'short', 'too', 'you']"
      ]
     },
     "execution_count": 17,
     "metadata": {},
     "output_type": "execute_result"
    }
   ],
   "source": [
    "a.sort()\n",
    "a"
   ]
  },
  {
   "cell_type": "code",
   "execution_count": 18,
   "id": "7183ad51",
   "metadata": {},
   "outputs": [
    {
     "data": {
      "text/plain": [
       "['you', 'too', 'short', 'python', 'need', 'is', 'Life']"
      ]
     },
     "execution_count": 18,
     "metadata": {},
     "output_type": "execute_result"
    }
   ],
   "source": [
    "a.reverse()\n",
    "a"
   ]
  },
  {
   "cell_type": "code",
   "execution_count": 22,
   "id": "f93a3a5c",
   "metadata": {},
   "outputs": [
    {
     "data": {
      "text/plain": [
       "['you', 'too']"
      ]
     },
     "execution_count": 22,
     "metadata": {},
     "output_type": "execute_result"
    }
   ],
   "source": [
    "a[0:2]"
   ]
  },
  {
   "cell_type": "code",
   "execution_count": 26,
   "id": "87d5adb2",
   "metadata": {},
   "outputs": [
    {
     "data": {
      "text/plain": [
       "7"
      ]
     },
     "execution_count": 26,
     "metadata": {},
     "output_type": "execute_result"
    }
   ],
   "source": [
    "b = len(a)\n",
    "b"
   ]
  },
  {
   "cell_type": "code",
   "execution_count": null,
   "id": "a56db272",
   "metadata": {},
   "outputs": [],
   "source": [
    "3. a 리스트의 첫번째 아이템에 길이를 추가하세요\n",
    "   (결과) [7 ,'you', 'too', 'short', 'python', 'need', 'is', 'Life']"
   ]
  },
  {
   "cell_type": "code",
   "execution_count": 33,
   "id": "b1428852",
   "metadata": {},
   "outputs": [
    {
     "data": {
      "text/plain": [
       "[7, 'Life', 'is', 'too', 'short', 'you', 'need', 'python']"
      ]
     },
     "execution_count": 33,
     "metadata": {},
     "output_type": "execute_result"
    }
   ],
   "source": [
    "a.insert(0, len(a))\n",
    "a"
   ]
  },
  {
   "cell_type": "code",
   "execution_count": null,
   "id": "0aa713e5",
   "metadata": {},
   "outputs": [],
   "source": [
    "4. 아래와 같이 크기 순서가 없는 리스트를 만들고 내림차순 정렬로 바꿔보세요\n",
    "    [1, 3, 9, 2, 6, 10]\n",
    "     (결과) [10, 9, 6, 4, 2, 1]"
   ]
  },
  {
   "cell_type": "code",
   "execution_count": 27,
   "id": "443c384d",
   "metadata": {},
   "outputs": [],
   "source": [
    "b = [1, 3, 9, 2, 6, 10]"
   ]
  },
  {
   "cell_type": "code",
   "execution_count": 28,
   "id": "ad971d90",
   "metadata": {},
   "outputs": [
    {
     "data": {
      "text/plain": [
       "[1, 2, 3, 6, 9, 10]"
      ]
     },
     "execution_count": 28,
     "metadata": {},
     "output_type": "execute_result"
    }
   ],
   "source": [
    "b.sort()\n",
    "b"
   ]
  },
  {
   "cell_type": "code",
   "execution_count": 31,
   "id": "9a4cb5ef",
   "metadata": {},
   "outputs": [
    {
     "data": {
      "text/plain": [
       "[10, 9, 6, 3, 2, 1]"
      ]
     },
     "execution_count": 31,
     "metadata": {},
     "output_type": "execute_result"
    }
   ],
   "source": [
    "b.reverse()\n",
    "b"
   ]
  },
  {
   "cell_type": "code",
   "execution_count": null,
   "id": "a205a576",
   "metadata": {},
   "outputs": [],
   "source": [
    "5. 다음과 같은 아이템을 가지는 리스트를 만들고 아이템을 삭제해 보세요\n",
    "    [1, 2, 3, 4, 5, 6, 7, 8, 9, 10]\n",
    "    (결과) [2, 4, 6, 8, 10]"
   ]
  },
  {
   "cell_type": "code",
   "execution_count": 40,
   "id": "d10ee3ff",
   "metadata": {},
   "outputs": [],
   "source": [
    "c = [1, 2, 3, 4, 5, 6, 7, 8, 9, 10]"
   ]
  },
  {
   "cell_type": "code",
   "execution_count": 45,
   "id": "edc89803",
   "metadata": {},
   "outputs": [
    {
     "data": {
      "text/plain": [
       "[2, 4, 6, 8, 10]"
      ]
     },
     "execution_count": 45,
     "metadata": {},
     "output_type": "execute_result"
    }
   ],
   "source": [
    "del c[::2]\n",
    "c\n"
   ]
  },
  {
   "cell_type": "markdown",
   "id": "a6abd404",
   "metadata": {},
   "source": [
    "## 자료형 - Tuple\n",
    "\n",
    "- 생성 문법 기호 : ()\n",
    "- 아이템을 수정/삭제할 수 없기 때문에 실수로 데이터가 변경되거나 삭제되는 위험이 적다\n",
    "- 객체를 저장하는데 더 적은 메모리를 사용한다\n",
    "- dictionay 자료형의 key로 활용할 수 있다\n",
    "- 함수의 인자는 tuple 자료형으로 전달된다"
   ]
  },
  {
   "cell_type": "code",
   "execution_count": 46,
   "id": "6feee755",
   "metadata": {},
   "outputs": [
    {
     "data": {
      "text/plain": [
       "list"
      ]
     },
     "execution_count": 46,
     "metadata": {},
     "output_type": "execute_result"
    }
   ],
   "source": [
    "# 하나의 아이템을 가진 리스트\n",
    "a = [1]\n",
    "type(a)"
   ]
  },
  {
   "cell_type": "code",
   "execution_count": 49,
   "id": "6ae9ea80",
   "metadata": {},
   "outputs": [
    {
     "data": {
      "text/plain": [
       "tuple"
      ]
     },
     "execution_count": 49,
     "metadata": {},
     "output_type": "execute_result"
    }
   ],
   "source": [
    "# 문법기호 : 튜플은() 를 이용해 생성하되 생략이 가능함. 단 쉼포는 무조건 1개이상 들어감\n",
    "tu = (3,)\n",
    "type(tu)"
   ]
  },
  {
   "cell_type": "code",
   "execution_count": 50,
   "id": "4d4fd68a",
   "metadata": {},
   "outputs": [
    {
     "name": "stdout",
     "output_type": "stream",
     "text": [
      "[1] (1,)\n",
      "<class 'list'> <class 'tuple'>\n"
     ]
    }
   ],
   "source": [
    "# tuple(리스트)로 처리하면 리스트를 튜플로 변환할 수 있다.\n",
    "b = tuple(a)\n",
    "print(a,b)\n",
    "print(type(a), type(b))\n"
   ]
  },
  {
   "cell_type": "code",
   "execution_count": 51,
   "id": "c74f63dd",
   "metadata": {},
   "outputs": [
    {
     "name": "stdout",
     "output_type": "stream",
     "text": [
      "(1,) [1]\n",
      "<class 'tuple'> <class 'list'>\n"
     ]
    }
   ],
   "source": [
    "# 반대로 list(튜플) 로 처리하면 튜플은 리스트로 변환할 수도 있다.\n",
    "c = list(b)\n",
    "print(b,c)\n",
    "print(type(b), type(c))"
   ]
  },
  {
   "cell_type": "code",
   "execution_count": 53,
   "id": "d5705a86",
   "metadata": {},
   "outputs": [
    {
     "name": "stdout",
     "output_type": "stream",
     "text": [
      "(56, 78, 29, 100)\n",
      "<class 'tuple'>\n"
     ]
    }
   ],
   "source": [
    "# 변수 하나에 값을 여러개 대입하면 자동으로 튜플로 간주합니다\n",
    "x = 56, 78, 29, 100\n",
    "print(x)\n",
    "print(type(x))"
   ]
  },
  {
   "cell_type": "code",
   "execution_count": 54,
   "id": "71180af6",
   "metadata": {},
   "outputs": [
    {
     "name": "stdout",
     "output_type": "stream",
     "text": [
      "1\n",
      "2\n",
      "3\n"
     ]
    }
   ],
   "source": [
    "# 튜플 내부의 자료 개수만큼 변수를 대입해주면 하나씩 나눠서 값을 받는다\n",
    "x1, x2, x3, = 1, 2, 3\n",
    "print(x1)\n",
    "print(x2)\n",
    "print(x3)"
   ]
  },
  {
   "cell_type": "markdown",
   "id": "455615ad",
   "metadata": {},
   "source": [
    "### 32. 인덱싱"
   ]
  },
  {
   "cell_type": "code",
   "execution_count": 55,
   "id": "b8683ae2",
   "metadata": {},
   "outputs": [
    {
     "data": {
      "text/plain": [
       "56"
      ]
     },
     "execution_count": 55,
     "metadata": {},
     "output_type": "execute_result"
    }
   ],
   "source": [
    "x[0]"
   ]
  },
  {
   "cell_type": "markdown",
   "id": "0c676a4a",
   "metadata": {},
   "source": [
    "### 3. 슬라이싱"
   ]
  },
  {
   "cell_type": "code",
   "execution_count": 56,
   "id": "9e94dba8",
   "metadata": {},
   "outputs": [
    {
     "data": {
      "text/plain": [
       "(56, 78, 29)"
      ]
     },
     "execution_count": 56,
     "metadata": {},
     "output_type": "execute_result"
    }
   ],
   "source": [
    "x[:3]"
   ]
  },
  {
   "cell_type": "markdown",
   "id": "b1d0752a",
   "metadata": {},
   "source": [
    "### 4. 튜플 연산자\n",
    "    - 산술 연산자 : +, *"
   ]
  },
  {
   "cell_type": "code",
   "execution_count": 59,
   "id": "1fc3c187",
   "metadata": {},
   "outputs": [
    {
     "data": {
      "text/plain": [
       "(56, 78, 29, 100, 56, 78, 29, 100)"
      ]
     },
     "execution_count": 59,
     "metadata": {},
     "output_type": "execute_result"
    }
   ],
   "source": [
    "# 여러 개의 튜플 아이템을 합쳐서 새로운 튜플로 구성하기: +\n",
    "x + x"
   ]
  },
  {
   "cell_type": "code",
   "execution_count": 60,
   "id": "045cb41c",
   "metadata": {},
   "outputs": [
    {
     "data": {
      "text/plain": [
       "(56, 78, 29, 100, 56, 78, 29, 100, 56, 78, 29, 100)"
      ]
     },
     "execution_count": 60,
     "metadata": {},
     "output_type": "execute_result"
    }
   ],
   "source": [
    "# 한 개의 튜플을 반복해서 확장해서 새로운 튜플 만들기 : *\n",
    "x * 3"
   ]
  },
  {
   "cell_type": "markdown",
   "id": "fa317604",
   "metadata": {},
   "source": [
    "### 5. 수정/삭제 할 수 없는 튜플"
   ]
  },
  {
   "cell_type": "code",
   "execution_count": 62,
   "id": "285ac2f7",
   "metadata": {},
   "outputs": [
    {
     "ename": "TypeError",
     "evalue": "'tuple' object does not support item assignment",
     "output_type": "error",
     "traceback": [
      "\u001b[1;31m---------------------------------------------------------------------------\u001b[0m",
      "\u001b[1;31mTypeError\u001b[0m                                 Traceback (most recent call last)",
      "Input \u001b[1;32mIn [62]\u001b[0m, in \u001b[0;36m<cell line: 2>\u001b[1;34m()\u001b[0m\n\u001b[0;32m      1\u001b[0m \u001b[38;5;66;03m# 수정하기 -> 인덱싱으로 하나의 아이템에 접근해서 수정\u001b[39;00m\n\u001b[1;32m----> 2\u001b[0m x[\u001b[38;5;241m0\u001b[39m] \u001b[38;5;241m=\u001b[39m \u001b[38;5;241m0\u001b[39m\n",
      "\u001b[1;31mTypeError\u001b[0m: 'tuple' object does not support item assignment"
     ]
    }
   ],
   "source": [
    "# 수정하기 -> 인덱싱으로 하나의 아이템에 접근해서 수정\n",
    "x[0] = 0"
   ]
  },
  {
   "cell_type": "code",
   "execution_count": 63,
   "id": "ecdd3d32",
   "metadata": {},
   "outputs": [
    {
     "ename": "TypeError",
     "evalue": "'tuple' object doesn't support item deletion",
     "output_type": "error",
     "traceback": [
      "\u001b[1;31m---------------------------------------------------------------------------\u001b[0m",
      "\u001b[1;31mTypeError\u001b[0m                                 Traceback (most recent call last)",
      "Input \u001b[1;32mIn [63]\u001b[0m, in \u001b[0;36m<cell line: 2>\u001b[1;34m()\u001b[0m\n\u001b[0;32m      1\u001b[0m \u001b[38;5;66;03m# 삭제하기 - del키워드 + 인덱싱\u001b[39;00m\n\u001b[1;32m----> 2\u001b[0m \u001b[38;5;28;01mdel\u001b[39;00m x[\u001b[38;5;241m0\u001b[39m]\n",
      "\u001b[1;31mTypeError\u001b[0m: 'tuple' object doesn't support item deletion"
     ]
    }
   ],
   "source": [
    "# 삭제하기 - del키워드 + 인덱싱\n",
    "del x[0]"
   ]
  },
  {
   "cell_type": "code",
   "execution_count": null,
   "id": "7239e090",
   "metadata": {},
   "outputs": [],
   "source": []
  },
  {
   "cell_type": "code",
   "execution_count": null,
   "id": "b93deda3",
   "metadata": {},
   "outputs": [],
   "source": []
  }
 ],
 "metadata": {
  "kernelspec": {
   "display_name": "Python 3 (ipykernel)",
   "language": "python",
   "name": "python3"
  },
  "language_info": {
   "codemirror_mode": {
    "name": "ipython",
    "version": 3
   },
   "file_extension": ".py",
   "mimetype": "text/x-python",
   "name": "python",
   "nbconvert_exporter": "python",
   "pygments_lexer": "ipython3",
   "version": "3.9.12"
  }
 },
 "nbformat": 4,
 "nbformat_minor": 5
}
