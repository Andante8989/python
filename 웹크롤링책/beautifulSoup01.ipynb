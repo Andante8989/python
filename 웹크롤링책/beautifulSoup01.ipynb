{
 "cells": [
  {
   "cell_type": "code",
   "execution_count": 1,
   "id": "98c1581c",
   "metadata": {},
   "outputs": [],
   "source": [
    "from bs4 import BeautifulSoup"
   ]
  },
  {
   "cell_type": "code",
   "execution_count": 2,
   "id": "a1e0d2c4",
   "metadata": {},
   "outputs": [],
   "source": [
    "html_doc = \"\"\"\n",
    "<!doctype html>\n",
    "<html>\n",
    "\t<head>\n",
    "\t\t<title>기초 웹 크롤링</title>\n",
    "\t</head>\n",
    "\t<body>\n",
    "\t\t크롤링을 해봅시다\n",
    "\t</body>\n",
    "</html>\n",
    "\"\"\""
   ]
  },
  {
   "cell_type": "raw",
   "id": "2bd138b1",
   "metadata": {},
   "source": [
    "# 파싱한다 = 문서에 포함된 텍스트의 구성 성분을 분해한다는 뜻"
   ]
  },
  {
   "cell_type": "code",
   "execution_count": 3,
   "id": "b83ecadf",
   "metadata": {},
   "outputs": [],
   "source": [
    "bs_obj = BeautifulSoup(html_doc, \"html.parser\")"
   ]
  },
  {
   "cell_type": "code",
   "execution_count": 4,
   "id": "3defa552",
   "metadata": {},
   "outputs": [
    {
     "name": "stdout",
     "output_type": "stream",
     "text": [
      "\n",
      "<!DOCTYPE html>\n",
      "\n",
      "<html>\n",
      "<head>\n",
      "<title>기초 웹 크롤링</title>\n",
      "</head>\n",
      "<body>\n",
      "\t\t크롤링을 해봅시다\n",
      "\t</body>\n",
      "</html>\n",
      "\n"
     ]
    }
   ],
   "source": [
    "print(bs_obj)"
   ]
  },
  {
   "cell_type": "code",
   "execution_count": 6,
   "id": "0dc0315e",
   "metadata": {},
   "outputs": [],
   "source": [
    "head = bs_obj.find(\"head\")"
   ]
  },
  {
   "cell_type": "code",
   "execution_count": 7,
   "id": "40bb27cd",
   "metadata": {},
   "outputs": [
    {
     "name": "stdout",
     "output_type": "stream",
     "text": [
      "<head>\n",
      "<title>기초 웹 크롤링</title>\n",
      "</head>\n"
     ]
    }
   ],
   "source": [
    "print(head)"
   ]
  },
  {
   "cell_type": "code",
   "execution_count": 8,
   "id": "b731eaa6",
   "metadata": {},
   "outputs": [],
   "source": [
    "body = bs_obj.find(\"body\")"
   ]
  },
  {
   "cell_type": "code",
   "execution_count": 9,
   "id": "61faa5ae",
   "metadata": {},
   "outputs": [
    {
     "name": "stdout",
     "output_type": "stream",
     "text": [
      "<body>\n",
      "\t\t크롤링을 해봅시다\n",
      "\t</body>\n"
     ]
    }
   ],
   "source": [
    "print(body)"
   ]
  },
  {
   "cell_type": "code",
   "execution_count": 12,
   "id": "dcaa9ef5",
   "metadata": {},
   "outputs": [],
   "source": [
    "html_doc = \"\"\"\n",
    "<!doctype html>\n",
    "<html>\n",
    "\t<head>\n",
    "\t\t<title>기초 웹 크롤링 따라하기</title>\n",
    "\t</head>\n",
    "\t<body>\n",
    "        <div> 첫 번째 부분 </div>\n",
    "        <div> 두 번째 부분 </div>\n",
    "\t</body>\n",
    "</html>\n",
    "\"\"\""
   ]
  },
  {
   "cell_type": "code",
   "execution_count": 13,
   "id": "3d03cd57",
   "metadata": {},
   "outputs": [],
   "source": [
    "bs_obj = BeautifulSoup(html_doc, \"html.parser\")"
   ]
  },
  {
   "cell_type": "code",
   "execution_count": 15,
   "id": "d7e51dc8",
   "metadata": {},
   "outputs": [],
   "source": [
    "body = bs_obj.find(\"body\")"
   ]
  },
  {
   "cell_type": "code",
   "execution_count": 16,
   "id": "7af82e1e",
   "metadata": {},
   "outputs": [
    {
     "name": "stdout",
     "output_type": "stream",
     "text": [
      "<body>\n",
      "<div> 첫 번째 부분 </div>\n",
      "<div> 두 번째 부분 </div>\n",
      "</body>\n"
     ]
    }
   ],
   "source": [
    "print(body)"
   ]
  },
  {
   "cell_type": "code",
   "execution_count": 17,
   "id": "b88b6c4b",
   "metadata": {},
   "outputs": [],
   "source": [
    "div = bs_obj.find(\"div\")"
   ]
  },
  {
   "cell_type": "code",
   "execution_count": 18,
   "id": "d1f77a82",
   "metadata": {},
   "outputs": [
    {
     "name": "stdout",
     "output_type": "stream",
     "text": [
      "<div> 첫 번째 부분 </div>\n"
     ]
    }
   ],
   "source": [
    "print(div)"
   ]
  },
  {
   "cell_type": "code",
   "execution_count": 19,
   "id": "2331dc63",
   "metadata": {},
   "outputs": [],
   "source": [
    "divAll = bs_obj.find_all(\"div\")"
   ]
  },
  {
   "cell_type": "code",
   "execution_count": 20,
   "id": "0f05da2c",
   "metadata": {},
   "outputs": [
    {
     "name": "stdout",
     "output_type": "stream",
     "text": [
      "[<div> 첫 번째 부분 </div>, <div> 두 번째 부분 </div>]\n"
     ]
    }
   ],
   "source": [
    "print(divAll)"
   ]
  },
  {
   "cell_type": "code",
   "execution_count": 22,
   "id": "eac8d1e3",
   "metadata": {},
   "outputs": [
    {
     "name": "stdout",
     "output_type": "stream",
     "text": [
      "<class 'bs4.element.ResultSet'>\n"
     ]
    }
   ],
   "source": [
    "print(type(divAll))"
   ]
  },
  {
   "cell_type": "code",
   "execution_count": 27,
   "id": "496b8681",
   "metadata": {},
   "outputs": [
    {
     "name": "stdout",
     "output_type": "stream",
     "text": [
      " 두 번째 부분 \n"
     ]
    }
   ],
   "source": [
    "print(divAll[1].text)"
   ]
  },
  {
   "cell_type": "code",
   "execution_count": 25,
   "id": "c554e379",
   "metadata": {},
   "outputs": [
    {
     "ename": "AttributeError",
     "evalue": "ResultSet object has no attribute 'text'. You're probably treating a list of elements like a single element. Did you call find_all() when you meant to call find()?",
     "output_type": "error",
     "traceback": [
      "\u001b[1;31m---------------------------------------------------------------------------\u001b[0m",
      "\u001b[1;31mAttributeError\u001b[0m                            Traceback (most recent call last)",
      "Input \u001b[1;32mIn [25]\u001b[0m, in \u001b[0;36m<cell line: 1>\u001b[1;34m()\u001b[0m\n\u001b[1;32m----> 1\u001b[0m \u001b[43mdivAll\u001b[49m\u001b[38;5;241;43m.\u001b[39;49m\u001b[43mtext\u001b[49m()\n",
      "File \u001b[1;32mC:\\Users\\Lee\\lib\\site-packages\\bs4\\element.py:2289\u001b[0m, in \u001b[0;36mResultSet.__getattr__\u001b[1;34m(self, key)\u001b[0m\n\u001b[0;32m   2287\u001b[0m \u001b[38;5;28;01mdef\u001b[39;00m \u001b[38;5;21m__getattr__\u001b[39m(\u001b[38;5;28mself\u001b[39m, key):\n\u001b[0;32m   2288\u001b[0m     \u001b[38;5;124;03m\"\"\"Raise a helpful exception to explain a common code fix.\"\"\"\u001b[39;00m\n\u001b[1;32m-> 2289\u001b[0m     \u001b[38;5;28;01mraise\u001b[39;00m \u001b[38;5;167;01mAttributeError\u001b[39;00m(\n\u001b[0;32m   2290\u001b[0m         \u001b[38;5;124m\"\u001b[39m\u001b[38;5;124mResultSet object has no attribute \u001b[39m\u001b[38;5;124m'\u001b[39m\u001b[38;5;132;01m%s\u001b[39;00m\u001b[38;5;124m'\u001b[39m\u001b[38;5;124m. You\u001b[39m\u001b[38;5;124m'\u001b[39m\u001b[38;5;124mre probably treating a list of elements like a single element. Did you call find_all() when you meant to call find()?\u001b[39m\u001b[38;5;124m\"\u001b[39m \u001b[38;5;241m%\u001b[39m key\n\u001b[0;32m   2291\u001b[0m     )\n",
      "\u001b[1;31mAttributeError\u001b[0m: ResultSet object has no attribute 'text'. You're probably treating a list of elements like a single element. Did you call find_all() when you meant to call find()?"
     ]
    }
   ],
   "source": []
  },
  {
   "cell_type": "code",
   "execution_count": null,
   "id": "e30d1a68",
   "metadata": {},
   "outputs": [],
   "source": []
  },
  {
   "cell_type": "code",
   "execution_count": null,
   "id": "653a0534",
   "metadata": {},
   "outputs": [],
   "source": []
  },
  {
   "cell_type": "code",
   "execution_count": null,
   "id": "2fff2016",
   "metadata": {},
   "outputs": [],
   "source": []
  }
 ],
 "metadata": {
  "kernelspec": {
   "display_name": "Python 3 (ipykernel)",
   "language": "python",
   "name": "python3"
  },
  "language_info": {
   "codemirror_mode": {
    "name": "ipython",
    "version": 3
   },
   "file_extension": ".py",
   "mimetype": "text/x-python",
   "name": "python",
   "nbconvert_exporter": "python",
   "pygments_lexer": "ipython3",
   "version": "3.9.12"
  }
 },
 "nbformat": 4,
 "nbformat_minor": 5
}
