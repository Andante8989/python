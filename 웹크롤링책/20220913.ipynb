{
 "cells": [
  {
   "cell_type": "code",
   "execution_count": 1,
   "id": "105e0bb6",
   "metadata": {},
   "outputs": [],
   "source": [
    "e = \"hello\""
   ]
  },
  {
   "cell_type": "code",
   "execution_count": 2,
   "id": "b99f1e6c",
   "metadata": {},
   "outputs": [
    {
     "name": "stdout",
     "output_type": "stream",
     "text": [
      "hello\n"
     ]
    }
   ],
   "source": [
    "print(e)"
   ]
  },
  {
   "cell_type": "code",
   "execution_count": 7,
   "id": "8125d27c",
   "metadata": {},
   "outputs": [
    {
     "name": "stdout",
     "output_type": "stream",
     "text": [
      "ello\n"
     ]
    }
   ],
   "source": [
    "print(e[1:])"
   ]
  },
  {
   "cell_type": "code",
   "execution_count": 8,
   "id": "1623dabb",
   "metadata": {},
   "outputs": [
    {
     "name": "stdout",
     "output_type": "stream",
     "text": [
      "hello. world\n"
     ]
    }
   ],
   "source": [
    "f = \". world\"\n",
    "g = e + f\n",
    "print(g)"
   ]
  },
  {
   "cell_type": "code",
   "execution_count": 68,
   "id": "1ff92322",
   "metadata": {},
   "outputs": [],
   "source": [
    "list10 = [1, 2, 3, [6, 7]]"
   ]
  },
  {
   "cell_type": "code",
   "execution_count": 13,
   "id": "4b02c320",
   "metadata": {},
   "outputs": [
    {
     "data": {
      "text/plain": [
       "7"
      ]
     },
     "execution_count": 13,
     "metadata": {},
     "output_type": "execute_result"
    }
   ],
   "source": [
    "list[3][1]"
   ]
  },
  {
   "cell_type": "code",
   "execution_count": 15,
   "id": "8aafeac9",
   "metadata": {},
   "outputs": [
    {
     "data": {
      "text/plain": [
       "2"
      ]
     },
     "execution_count": 15,
     "metadata": {},
     "output_type": "execute_result"
    }
   ],
   "source": [
    "len(list[3])"
   ]
  },
  {
   "cell_type": "code",
   "execution_count": 16,
   "id": "005c69d8",
   "metadata": {},
   "outputs": [
    {
     "data": {
      "text/plain": [
       "4"
      ]
     },
     "execution_count": 16,
     "metadata": {},
     "output_type": "execute_result"
    }
   ],
   "source": [
    "len(list)"
   ]
  },
  {
   "cell_type": "code",
   "execution_count": 25,
   "id": "2b5c988c",
   "metadata": {},
   "outputs": [],
   "source": [
    "list1 = [ 3, 5, 2, 7]"
   ]
  },
  {
   "cell_type": "code",
   "execution_count": 21,
   "id": "9eaa5f02",
   "metadata": {},
   "outputs": [],
   "source": [
    "list1.sort()"
   ]
  },
  {
   "cell_type": "code",
   "execution_count": 22,
   "id": "2ec61cd9",
   "metadata": {},
   "outputs": [
    {
     "name": "stdout",
     "output_type": "stream",
     "text": [
      "[2, 3, 5, 7]\n"
     ]
    }
   ],
   "source": [
    "print(list1)"
   ]
  },
  {
   "cell_type": "code",
   "execution_count": 23,
   "id": "c815f0dd",
   "metadata": {},
   "outputs": [],
   "source": [
    "list1.reverse()"
   ]
  },
  {
   "cell_type": "code",
   "execution_count": 24,
   "id": "6bcc5938",
   "metadata": {},
   "outputs": [
    {
     "name": "stdout",
     "output_type": "stream",
     "text": [
      "[7, 5, 3, 2]\n"
     ]
    }
   ],
   "source": [
    "print(list1)"
   ]
  },
  {
   "cell_type": "code",
   "execution_count": 30,
   "id": "251469f4",
   "metadata": {},
   "outputs": [
    {
     "data": {
      "text/plain": [
       "[7, 5, 3, 2]"
      ]
     },
     "execution_count": 30,
     "metadata": {},
     "output_type": "execute_result"
    }
   ],
   "source": [
    "sorted(list1, reverse=True)"
   ]
  },
  {
   "cell_type": "code",
   "execution_count": 29,
   "id": "1c28856a",
   "metadata": {},
   "outputs": [
    {
     "name": "stdout",
     "output_type": "stream",
     "text": [
      "[3, 5, 2, 7]\n"
     ]
    }
   ],
   "source": [
    "# sorted함수를 사용해도 따로 초기화해주지않으면 원값은 변하지 않는다.\n",
    "print(list1)"
   ]
  },
  {
   "cell_type": "code",
   "execution_count": 31,
   "id": "5601fe24",
   "metadata": {},
   "outputs": [],
   "source": [
    "list4 = [3, 5, 3, 3, 3]"
   ]
  },
  {
   "cell_type": "code",
   "execution_count": 34,
   "id": "a69cf342",
   "metadata": {},
   "outputs": [
    {
     "name": "stdout",
     "output_type": "stream",
     "text": [
      "<class 'list'>\n"
     ]
    }
   ],
   "source": [
    "print(type(list4))"
   ]
  },
  {
   "cell_type": "code",
   "execution_count": 35,
   "id": "7b233b06",
   "metadata": {},
   "outputs": [],
   "source": [
    "list5 = (1, 2, 3, 4, 5)"
   ]
  },
  {
   "cell_type": "code",
   "execution_count": 36,
   "id": "f92502b5",
   "metadata": {},
   "outputs": [
    {
     "name": "stdout",
     "output_type": "stream",
     "text": [
      "<class 'tuple'>\n"
     ]
    }
   ],
   "source": [
    "print(type(list5))"
   ]
  },
  {
   "cell_type": "code",
   "execution_count": 39,
   "id": "e4b01f3a",
   "metadata": {},
   "outputs": [
    {
     "ename": "TypeError",
     "evalue": "'tuple' object does not support item assignment",
     "output_type": "error",
     "traceback": [
      "\u001b[1;31m---------------------------------------------------------------------------\u001b[0m",
      "\u001b[1;31mTypeError\u001b[0m                                 Traceback (most recent call last)",
      "Input \u001b[1;32mIn [39]\u001b[0m, in \u001b[0;36m<cell line: 1>\u001b[1;34m()\u001b[0m\n\u001b[1;32m----> 1\u001b[0m list5[\u001b[38;5;241m3\u001b[39m] \u001b[38;5;241m=\u001b[39m \u001b[38;5;241m7\u001b[39m\n",
      "\u001b[1;31mTypeError\u001b[0m: 'tuple' object does not support item assignment"
     ]
    }
   ],
   "source": [
    "list5[3] = 7"
   ]
  },
  {
   "cell_type": "code",
   "execution_count": 40,
   "id": "5b59d737",
   "metadata": {},
   "outputs": [],
   "source": [
    "dic = {'name': 'john',\n",
    "      'age': '19',\n",
    "      'hobby': ['reading','soccer']}"
   ]
  },
  {
   "cell_type": "code",
   "execution_count": 41,
   "id": "add42f53",
   "metadata": {},
   "outputs": [
    {
     "name": "stdout",
     "output_type": "stream",
     "text": [
      "{'name': 'john', 'age': '19', 'hobby': ['reading', 'soccer']}\n"
     ]
    }
   ],
   "source": [
    "print(dic)"
   ]
  },
  {
   "cell_type": "code",
   "execution_count": 45,
   "id": "658fbd8c",
   "metadata": {},
   "outputs": [],
   "source": [
    "dic['blood'] = 'A'"
   ]
  },
  {
   "cell_type": "code",
   "execution_count": 46,
   "id": "f3a5eb76",
   "metadata": {},
   "outputs": [
    {
     "name": "stdout",
     "output_type": "stream",
     "text": [
      "{'name': 'john', 'age': '19', 'hobby': ['reading', 'soccer'], 'blood': 'A'}\n"
     ]
    }
   ],
   "source": [
    "print(dic)"
   ]
  },
  {
   "cell_type": "code",
   "execution_count": 47,
   "id": "a6c5b19d",
   "metadata": {},
   "outputs": [],
   "source": [
    "del dic['blood']"
   ]
  },
  {
   "cell_type": "code",
   "execution_count": 49,
   "id": "285115cf",
   "metadata": {},
   "outputs": [
    {
     "name": "stdout",
     "output_type": "stream",
     "text": [
      "{'name': 'john', 'age': '19', 'hobby': ['reading', 'soccer']}\n"
     ]
    }
   ],
   "source": [
    "print(dic)"
   ]
  },
  {
   "cell_type": "code",
   "execution_count": 50,
   "id": "072761f3",
   "metadata": {},
   "outputs": [
    {
     "name": "stdout",
     "output_type": "stream",
     "text": [
      "19\n"
     ]
    }
   ],
   "source": [
    "print(dic['age'])"
   ]
  },
  {
   "cell_type": "code",
   "execution_count": 63,
   "id": "6cda79f3",
   "metadata": {},
   "outputs": [
    {
     "name": "stdout",
     "output_type": "stream",
     "text": [
      "dict_keys(['name', 'age', 'hobby'])\n"
     ]
    }
   ],
   "source": [
    "print(dic.keys())"
   ]
  },
  {
   "cell_type": "code",
   "execution_count": 65,
   "id": "b7d2b845",
   "metadata": {},
   "outputs": [],
   "source": [
    "dic01 = {'name': 'john',\n",
    "      'age': '19',\n",
    "      'hobby': ['reading','soccer']}"
   ]
  },
  {
   "cell_type": "code",
   "execution_count": 66,
   "id": "ed9d8142",
   "metadata": {},
   "outputs": [
    {
     "name": "stdout",
     "output_type": "stream",
     "text": [
      "dict_keys(['name', 'age', 'hobby'])\n"
     ]
    }
   ],
   "source": [
    "print(dic01.keys())"
   ]
  },
  {
   "cell_type": "code",
   "execution_count": 73,
   "id": "54b310ec",
   "metadata": {},
   "outputs": [],
   "source": [
    "list06 = list(dic01.keys())"
   ]
  },
  {
   "cell_type": "code",
   "execution_count": 71,
   "id": "e6a8903b",
   "metadata": {},
   "outputs": [],
   "source": [
    "del list"
   ]
  },
  {
   "cell_type": "code",
   "execution_count": 72,
   "id": "b631d750",
   "metadata": {},
   "outputs": [
    {
     "name": "stdout",
     "output_type": "stream",
     "text": [
      "<class 'list'>\n"
     ]
    }
   ],
   "source": [
    "print(list)"
   ]
  },
  {
   "cell_type": "code",
   "execution_count": 76,
   "id": "252317f0",
   "metadata": {},
   "outputs": [
    {
     "data": {
      "text/plain": [
       "['name', 'age', 'hobby']"
      ]
     },
     "execution_count": 76,
     "metadata": {},
     "output_type": "execute_result"
    }
   ],
   "source": [
    "list06"
   ]
  },
  {
   "cell_type": "code",
   "execution_count": 79,
   "id": "d24009e7",
   "metadata": {},
   "outputs": [
    {
     "name": "stdout",
     "output_type": "stream",
     "text": [
      "dict_items([('name', 'john'), ('age', '19'), ('hobby', ['reading', 'soccer'])])\n"
     ]
    }
   ],
   "source": [
    "print(dic01.items())"
   ]
  },
  {
   "cell_type": "raw",
   "id": "c49540d0",
   "metadata": {},
   "source": [
    "set(\"hello\")"
   ]
  },
  {
   "cell_type": "code",
   "execution_count": 82,
   "id": "6f550a18",
   "metadata": {},
   "outputs": [
    {
     "name": "stdout",
     "output_type": "stream",
     "text": [
      "B 등급입니다.\n"
     ]
    }
   ],
   "source": [
    "score = 80\n",
    "if score > 90:\n",
    "    print(\"A 등급입니다.\")\n",
    "else:\n",
    "    print(\"B 등급입니다.\")"
   ]
  },
  {
   "cell_type": "code",
   "execution_count": 83,
   "id": "dfcb3545",
   "metadata": {},
   "outputs": [
    {
     "data": {
      "text/plain": [
       "True"
      ]
     },
     "execution_count": 83,
     "metadata": {},
     "output_type": "execute_result"
    }
   ],
   "source": [
    "c = 3\n",
    "list07 = [1, 2, 3, 4, 5]\n",
    "c in list07"
   ]
  },
  {
   "cell_type": "code",
   "execution_count": 86,
   "id": "6b09c8e3",
   "metadata": {},
   "outputs": [
    {
     "data": {
      "text/plain": [
       "False"
      ]
     },
     "execution_count": 86,
     "metadata": {},
     "output_type": "execute_result"
    }
   ],
   "source": [
    "c not in list07"
   ]
  },
  {
   "cell_type": "code",
   "execution_count": 91,
   "id": "531c840b",
   "metadata": {},
   "outputs": [
    {
     "name": "stdout",
     "output_type": "stream",
     "text": [
      "0\n",
      "1\n",
      "2\n",
      "3\n",
      "4\n"
     ]
    }
   ],
   "source": [
    "# 반복문\n",
    "for i in range(0, 5):\n",
    "    print(i)"
   ]
  },
  {
   "cell_type": "code",
   "execution_count": 92,
   "id": "2142d5bf",
   "metadata": {},
   "outputs": [
    {
     "name": "stdout",
     "output_type": "stream",
     "text": [
      "1\n",
      "2\n",
      "5\n",
      "10\n"
     ]
    }
   ],
   "source": [
    "seq = [1, 2, 5, 10]\n",
    "for i in seq:\n",
    "    print(i)"
   ]
  },
  {
   "cell_type": "code",
   "execution_count": 93,
   "id": "6075c7d1",
   "metadata": {},
   "outputs": [
    {
     "name": "stdout",
     "output_type": "stream",
     "text": [
      "0 Seoul\n",
      "1 Busan\n",
      "2 Daegu\n"
     ]
    }
   ],
   "source": [
    "# enumerate 함수를 사용하면 리스트 요소를인덱스 값과 같이 출력합니다.\n",
    "\n",
    "seq = [\"Seoul\",\"Busan\",\"Daegu\"]\n",
    "for idx, city in enumerate(seq):\n",
    "    print(idx, city)"
   ]
  },
  {
   "cell_type": "code",
   "execution_count": 94,
   "id": "a9d447ab",
   "metadata": {},
   "outputs": [
    {
     "name": "stdout",
     "output_type": "stream",
     "text": [
      "안녕하세요\n",
      "안녕하세요\n",
      "안녕하세요\n",
      "안녕하세요\n",
      "안녕하세요\n"
     ]
    }
   ],
   "source": [
    "i = 0\n",
    "while(i < 5):\n",
    "    print(\"안녕하세요\")\n",
    "    i = i + 1"
   ]
  },
  {
   "cell_type": "code",
   "execution_count": 95,
   "id": "480b8609",
   "metadata": {},
   "outputs": [
    {
     "ename": "ZeroDivisionError",
     "evalue": "division by zero",
     "output_type": "error",
     "traceback": [
      "\u001b[1;31m---------------------------------------------------------------------------\u001b[0m",
      "\u001b[1;31mZeroDivisionError\u001b[0m                         Traceback (most recent call last)",
      "Input \u001b[1;32mIn [95]\u001b[0m, in \u001b[0;36m<cell line: 1>\u001b[1;34m()\u001b[0m\n\u001b[1;32m----> 1\u001b[0m \u001b[43mi\u001b[49m\u001b[43m \u001b[49m\u001b[38;5;241;43m/\u001b[39;49m\u001b[43m \u001b[49m\u001b[38;5;241;43m0\u001b[39;49m\n",
      "\u001b[1;31mZeroDivisionError\u001b[0m: division by zero"
     ]
    }
   ],
   "source": [
    "i / 0"
   ]
  },
  {
   "cell_type": "code",
   "execution_count": 96,
   "id": "a82c4630",
   "metadata": {},
   "outputs": [
    {
     "name": "stdout",
     "output_type": "stream",
     "text": [
      "0으로 나눌수 없습니다.\n"
     ]
    }
   ],
   "source": [
    "# 파이썬에서는 try, except, finally문을 이용해 예외처리 합니다\n",
    "try:\n",
    "    1 / 0\n",
    "    print(\"계산완료\")\n",
    "except:\n",
    "    print(\"0으로 나눌수 없습니다.\")"
   ]
  },
  {
   "cell_type": "code",
   "execution_count": 97,
   "id": "7ba46bb8",
   "metadata": {},
   "outputs": [
    {
     "name": "stdout",
     "output_type": "stream",
     "text": [
      "계산완료\n"
     ]
    }
   ],
   "source": [
    "try:\n",
    "    2 / 1\n",
    "    print(\"계산완료\")\n",
    "except:\n",
    "    print(\"오류로 인해 계산 되지 않습니다\")"
   ]
  },
  {
   "cell_type": "code",
   "execution_count": 98,
   "id": "eb0e56ee",
   "metadata": {},
   "outputs": [
    {
     "name": "stdout",
     "output_type": "stream",
     "text": [
      "계산완료\n",
      "작업이 완료되었습니다.\n"
     ]
    }
   ],
   "source": [
    "try:\n",
    "    2 / 1\n",
    "    print(\"계산완료\")\n",
    "except:\n",
    "    print(\"오류로 인해 계산 되지 않습니다\")\n",
    "finally:\n",
    "    print(\"작업이 완료되었습니다.\")"
   ]
  },
  {
   "cell_type": "code",
   "execution_count": null,
   "id": "887df982",
   "metadata": {},
   "outputs": [],
   "source": []
  },
  {
   "cell_type": "code",
   "execution_count": null,
   "id": "5924e7e6",
   "metadata": {},
   "outputs": [],
   "source": []
  },
  {
   "cell_type": "code",
   "execution_count": null,
   "id": "fd15ec73",
   "metadata": {},
   "outputs": [],
   "source": []
  },
  {
   "cell_type": "code",
   "execution_count": null,
   "id": "2d546bde",
   "metadata": {},
   "outputs": [],
   "source": []
  },
  {
   "cell_type": "code",
   "execution_count": null,
   "id": "3aa41ae9",
   "metadata": {},
   "outputs": [],
   "source": []
  },
  {
   "cell_type": "code",
   "execution_count": null,
   "id": "d43b621a",
   "metadata": {},
   "outputs": [],
   "source": []
  },
  {
   "cell_type": "code",
   "execution_count": null,
   "id": "5150784a",
   "metadata": {},
   "outputs": [],
   "source": []
  }
 ],
 "metadata": {
  "kernelspec": {
   "display_name": "Python 3 (ipykernel)",
   "language": "python",
   "name": "python3"
  },
  "language_info": {
   "codemirror_mode": {
    "name": "ipython",
    "version": 3
   },
   "file_extension": ".py",
   "mimetype": "text/x-python",
   "name": "python",
   "nbconvert_exporter": "python",
   "pygments_lexer": "ipython3",
   "version": "3.9.12"
  }
 },
 "nbformat": 4,
 "nbformat_minor": 5
}
