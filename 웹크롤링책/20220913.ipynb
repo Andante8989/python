{
 "cells": [
  {
   "cell_type": "code",
   "execution_count": 1,
   "id": "df5f0210",
   "metadata": {},
   "outputs": [],
   "source": [
    "e = \"hello\""
   ]
  },
  {
   "cell_type": "code",
   "execution_count": 2,
   "id": "4be7acc5",
   "metadata": {},
   "outputs": [
    {
     "name": "stdout",
     "output_type": "stream",
     "text": [
      "hello\n"
     ]
    }
   ],
   "source": [
    "print(e)"
   ]
  },
  {
   "cell_type": "code",
   "execution_count": 7,
   "id": "f1457127",
   "metadata": {},
   "outputs": [
    {
     "name": "stdout",
     "output_type": "stream",
     "text": [
      "ello\n"
     ]
    }
   ],
   "source": [
    "print(e[1:])"
   ]
  },
  {
   "cell_type": "code",
   "execution_count": 8,
   "id": "b08b26ab",
   "metadata": {},
   "outputs": [
    {
     "name": "stdout",
     "output_type": "stream",
     "text": [
      "hello. world\n"
     ]
    }
   ],
   "source": [
    "f = \". world\"\n",
    "g = e + f\n",
    "print(g)"
   ]
  },
  {
   "cell_type": "code",
   "execution_count": 68,
   "id": "52e8469b",
   "metadata": {},
   "outputs": [],
   "source": [
    "list10 = [1, 2, 3, [6, 7]]"
   ]
  },
  {
   "cell_type": "code",
   "execution_count": 13,
   "id": "357b0fb4",
   "metadata": {},
   "outputs": [
    {
     "data": {
      "text/plain": [
       "7"
      ]
     },
     "execution_count": 13,
     "metadata": {},
     "output_type": "execute_result"
    }
   ],
   "source": [
    "list[3][1]"
   ]
  },
  {
   "cell_type": "code",
   "execution_count": 15,
   "id": "649a6b81",
   "metadata": {},
   "outputs": [
    {
     "data": {
      "text/plain": [
       "2"
      ]
     },
     "execution_count": 15,
     "metadata": {},
     "output_type": "execute_result"
    }
   ],
   "source": [
    "len(list[3])"
   ]
  },
  {
   "cell_type": "code",
   "execution_count": 16,
   "id": "4d00a435",
   "metadata": {},
   "outputs": [
    {
     "data": {
      "text/plain": [
       "4"
      ]
     },
     "execution_count": 16,
     "metadata": {},
     "output_type": "execute_result"
    }
   ],
   "source": [
    "len(list)"
   ]
  },
  {
   "cell_type": "code",
   "execution_count": 25,
   "id": "be51adb7",
   "metadata": {},
   "outputs": [],
   "source": [
    "list1 = [ 3, 5, 2, 7]"
   ]
  },
  {
   "cell_type": "code",
   "execution_count": 21,
   "id": "f9018ec2",
   "metadata": {},
   "outputs": [],
   "source": [
    "list1.sort()"
   ]
  },
  {
   "cell_type": "code",
   "execution_count": 22,
   "id": "723b0532",
   "metadata": {},
   "outputs": [
    {
     "name": "stdout",
     "output_type": "stream",
     "text": [
      "[2, 3, 5, 7]\n"
     ]
    }
   ],
   "source": [
    "print(list1)"
   ]
  },
  {
   "cell_type": "code",
   "execution_count": 23,
   "id": "ccaf19c3",
   "metadata": {},
   "outputs": [],
   "source": [
    "list1.reverse()"
   ]
  },
  {
   "cell_type": "code",
   "execution_count": 24,
   "id": "78cf1873",
   "metadata": {},
   "outputs": [
    {
     "name": "stdout",
     "output_type": "stream",
     "text": [
      "[7, 5, 3, 2]\n"
     ]
    }
   ],
   "source": [
    "print(list1)"
   ]
  },
  {
   "cell_type": "code",
   "execution_count": 30,
   "id": "a2378170",
   "metadata": {},
   "outputs": [
    {
     "data": {
      "text/plain": [
       "[7, 5, 3, 2]"
      ]
     },
     "execution_count": 30,
     "metadata": {},
     "output_type": "execute_result"
    }
   ],
   "source": [
    "sorted(list1, reverse=True)"
   ]
  },
  {
   "cell_type": "code",
   "execution_count": 29,
   "id": "4460f0eb",
   "metadata": {},
   "outputs": [
    {
     "name": "stdout",
     "output_type": "stream",
     "text": [
      "[3, 5, 2, 7]\n"
     ]
    }
   ],
   "source": [
    "# sorted함수를 사용해도 따로 초기화해주지않으면 원값은 변하지 않는다.\n",
    "print(list1)"
   ]
  },
  {
   "cell_type": "code",
   "execution_count": 31,
   "id": "ac6f5a37",
   "metadata": {},
   "outputs": [],
   "source": [
    "list4 = [3, 5, 3, 3, 3]"
   ]
  },
  {
   "cell_type": "code",
   "execution_count": 34,
   "id": "56b85751",
   "metadata": {},
   "outputs": [
    {
     "name": "stdout",
     "output_type": "stream",
     "text": [
      "<class 'list'>\n"
     ]
    }
   ],
   "source": [
    "print(type(list4))"
   ]
  },
  {
   "cell_type": "code",
   "execution_count": 35,
   "id": "a7ff1030",
   "metadata": {},
   "outputs": [],
   "source": [
    "list5 = (1, 2, 3, 4, 5)"
   ]
  },
  {
   "cell_type": "code",
   "execution_count": 36,
   "id": "94a5f881",
   "metadata": {},
   "outputs": [
    {
     "name": "stdout",
     "output_type": "stream",
     "text": [
      "<class 'tuple'>\n"
     ]
    }
   ],
   "source": [
    "print(type(list5))"
   ]
  },
  {
   "cell_type": "code",
   "execution_count": 39,
   "id": "7eed4f3a",
   "metadata": {},
   "outputs": [
    {
     "ename": "TypeError",
     "evalue": "'tuple' object does not support item assignment",
     "output_type": "error",
     "traceback": [
      "\u001b[1;31m---------------------------------------------------------------------------\u001b[0m",
      "\u001b[1;31mTypeError\u001b[0m                                 Traceback (most recent call last)",
      "Input \u001b[1;32mIn [39]\u001b[0m, in \u001b[0;36m<cell line: 1>\u001b[1;34m()\u001b[0m\n\u001b[1;32m----> 1\u001b[0m list5[\u001b[38;5;241m3\u001b[39m] \u001b[38;5;241m=\u001b[39m \u001b[38;5;241m7\u001b[39m\n",
      "\u001b[1;31mTypeError\u001b[0m: 'tuple' object does not support item assignment"
     ]
    }
   ],
   "source": [
    "list5[3] = 7"
   ]
  },
  {
   "cell_type": "code",
   "execution_count": 40,
   "id": "4f7b6f47",
   "metadata": {},
   "outputs": [],
   "source": [
    "dic = {'name': 'john',\n",
    "      'age': '19',\n",
    "      'hobby': ['reading','soccer']}"
   ]
  },
  {
   "cell_type": "code",
   "execution_count": 41,
   "id": "64aae504",
   "metadata": {},
   "outputs": [
    {
     "name": "stdout",
     "output_type": "stream",
     "text": [
      "{'name': 'john', 'age': '19', 'hobby': ['reading', 'soccer']}\n"
     ]
    }
   ],
   "source": [
    "print(dic)"
   ]
  },
  {
   "cell_type": "code",
   "execution_count": 45,
   "id": "13bdaa74",
   "metadata": {},
   "outputs": [],
   "source": [
    "dic['blood'] = 'A'"
   ]
  },
  {
   "cell_type": "code",
   "execution_count": 46,
   "id": "08b75ef6",
   "metadata": {},
   "outputs": [
    {
     "name": "stdout",
     "output_type": "stream",
     "text": [
      "{'name': 'john', 'age': '19', 'hobby': ['reading', 'soccer'], 'blood': 'A'}\n"
     ]
    }
   ],
   "source": [
    "print(dic)"
   ]
  },
  {
   "cell_type": "code",
   "execution_count": 47,
   "id": "cca3c97f",
   "metadata": {},
   "outputs": [],
   "source": [
    "del dic['blood']"
   ]
  },
  {
   "cell_type": "code",
   "execution_count": 49,
   "id": "424deb68",
   "metadata": {},
   "outputs": [
    {
     "name": "stdout",
     "output_type": "stream",
     "text": [
      "{'name': 'john', 'age': '19', 'hobby': ['reading', 'soccer']}\n"
     ]
    }
   ],
   "source": [
    "print(dic)"
   ]
  },
  {
   "cell_type": "code",
   "execution_count": 50,
   "id": "5c758f45",
   "metadata": {},
   "outputs": [
    {
     "name": "stdout",
     "output_type": "stream",
     "text": [
      "19\n"
     ]
    }
   ],
   "source": [
    "print(dic['age'])"
   ]
  },
  {
   "cell_type": "code",
   "execution_count": 63,
   "id": "e2f4d2e2",
   "metadata": {},
   "outputs": [
    {
     "name": "stdout",
     "output_type": "stream",
     "text": [
      "dict_keys(['name', 'age', 'hobby'])\n"
     ]
    }
   ],
   "source": [
    "print(dic.keys())"
   ]
  },
  {
   "cell_type": "code",
   "execution_count": 65,
   "id": "d8beb274",
   "metadata": {},
   "outputs": [],
   "source": [
    "dic01 = {'name': 'john',\n",
    "      'age': '19',\n",
    "      'hobby': ['reading','soccer']}"
   ]
  },
  {
   "cell_type": "code",
   "execution_count": 66,
   "id": "1854a465",
   "metadata": {},
   "outputs": [
    {
     "name": "stdout",
     "output_type": "stream",
     "text": [
      "dict_keys(['name', 'age', 'hobby'])\n"
     ]
    }
   ],
   "source": [
    "print(dic01.keys())"
   ]
  },
  {
   "cell_type": "code",
   "execution_count": 73,
   "id": "1d1c49a2",
   "metadata": {},
   "outputs": [],
   "source": [
    "list06 = list(dic01.keys())"
   ]
  },
  {
   "cell_type": "code",
   "execution_count": 71,
   "id": "52f244c5",
   "metadata": {},
   "outputs": [],
   "source": [
    "del list"
   ]
  },
  {
   "cell_type": "code",
   "execution_count": 72,
   "id": "2494eada",
   "metadata": {},
   "outputs": [
    {
     "name": "stdout",
     "output_type": "stream",
     "text": [
      "<class 'list'>\n"
     ]
    }
   ],
   "source": [
    "print(list)"
   ]
  },
  {
   "cell_type": "code",
   "execution_count": 76,
   "id": "f237b32c",
   "metadata": {},
   "outputs": [
    {
     "data": {
      "text/plain": [
       "['name', 'age', 'hobby']"
      ]
     },
     "execution_count": 76,
     "metadata": {},
     "output_type": "execute_result"
    }
   ],
   "source": [
    "list06"
   ]
  },
  {
   "cell_type": "code",
   "execution_count": 79,
   "id": "38c30a53",
   "metadata": {},
   "outputs": [
    {
     "name": "stdout",
     "output_type": "stream",
     "text": [
      "dict_items([('name', 'john'), ('age', '19'), ('hobby', ['reading', 'soccer'])])\n"
     ]
    }
   ],
   "source": [
    "print(dic01.items())"
   ]
  },
  {
   "cell_type": "raw",
   "id": "002bf683",
   "metadata": {},
   "source": [
    "set(\"hello\")"
   ]
  },
  {
   "cell_type": "code",
   "execution_count": 82,
   "id": "69bbd875",
   "metadata": {},
   "outputs": [
    {
     "name": "stdout",
     "output_type": "stream",
     "text": [
      "B 등급입니다.\n"
     ]
    }
   ],
   "source": [
    "score = 80\n",
    "if score > 90:\n",
    "    print(\"A 등급입니다.\")\n",
    "else:\n",
    "    print(\"B 등급입니다.\")"
   ]
  },
  {
   "cell_type": "code",
   "execution_count": null,
   "id": "b3868e16",
   "metadata": {},
   "outputs": [],
   "source": []
  },
  {
   "cell_type": "code",
   "execution_count": null,
   "id": "2c75b962",
   "metadata": {},
   "outputs": [],
   "source": []
  },
  {
   "cell_type": "code",
   "execution_count": null,
   "id": "c11c10bb",
   "metadata": {},
   "outputs": [],
   "source": []
  },
  {
   "cell_type": "code",
   "execution_count": null,
   "id": "95c9b88b",
   "metadata": {},
   "outputs": [],
   "source": []
  },
  {
   "cell_type": "code",
   "execution_count": null,
   "id": "127cc474",
   "metadata": {},
   "outputs": [],
   "source": []
  },
  {
   "cell_type": "code",
   "execution_count": null,
   "id": "3d59c428",
   "metadata": {},
   "outputs": [],
   "source": []
  }
 ],
 "metadata": {
  "kernelspec": {
   "display_name": "Python 3 (ipykernel)",
   "language": "python",
   "name": "python3"
  },
  "language_info": {
   "codemirror_mode": {
    "name": "ipython",
    "version": 3
   },
   "file_extension": ".py",
   "mimetype": "text/x-python",
   "name": "python",
   "nbconvert_exporter": "python",
   "pygments_lexer": "ipython3",
   "version": "3.9.12"
  }
 },
 "nbformat": 4,
 "nbformat_minor": 5
}
