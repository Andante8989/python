{
 "cells": [
  {
   "cell_type": "code",
   "execution_count": 1,
   "id": "a4e3ef78",
   "metadata": {},
   "outputs": [],
   "source": [
    "from bs4 import BeautifulSoup"
   ]
  },
  {
   "cell_type": "code",
   "execution_count": 2,
   "id": "a3c0fff0",
   "metadata": {},
   "outputs": [],
   "source": [
    "html_doc = \"\"\"\n",
    "<!doctype html>\n",
    "<html>\n",
    "\t<head>\n",
    "\t\t<title>기초 웹 크롤링</title>\n",
    "\t</head>\n",
    "\t<body>\n",
    "\t\t크롤링을 해봅시다\n",
    "\t</body>\n",
    "</html>\n",
    "\"\"\""
   ]
  },
  {
   "cell_type": "raw",
   "id": "b1ac1e89",
   "metadata": {},
   "source": [
    "# 파싱한다 = 문서에 포함된 텍스트의 구성 성분을 분해한다는 뜻"
   ]
  },
  {
   "cell_type": "code",
   "execution_count": 3,
   "id": "dcb5f647",
   "metadata": {},
   "outputs": [],
   "source": [
    "bs_obj = BeautifulSoup(html_doc, \"html.parser\")"
   ]
  },
  {
   "cell_type": "code",
   "execution_count": 4,
   "id": "cd899209",
   "metadata": {},
   "outputs": [
    {
     "name": "stdout",
     "output_type": "stream",
     "text": [
      "\n",
      "<!DOCTYPE html>\n",
      "\n",
      "<html>\n",
      "<head>\n",
      "<title>기초 웹 크롤링</title>\n",
      "</head>\n",
      "<body>\n",
      "\t\t크롤링을 해봅시다\n",
      "\t</body>\n",
      "</html>\n",
      "\n"
     ]
    }
   ],
   "source": [
    "print(bs_obj)"
   ]
  },
  {
   "cell_type": "code",
   "execution_count": 6,
   "id": "cf71dcb3",
   "metadata": {},
   "outputs": [],
   "source": [
    "head = bs_obj.find(\"head\")"
   ]
  },
  {
   "cell_type": "code",
   "execution_count": 7,
   "id": "efa05c9e",
   "metadata": {},
   "outputs": [
    {
     "name": "stdout",
     "output_type": "stream",
     "text": [
      "<head>\n",
      "<title>기초 웹 크롤링</title>\n",
      "</head>\n"
     ]
    }
   ],
   "source": [
    "print(head)"
   ]
  },
  {
   "cell_type": "code",
   "execution_count": 8,
   "id": "18777fd0",
   "metadata": {},
   "outputs": [],
   "source": [
    "body = bs_obj.find(\"body\")"
   ]
  },
  {
   "cell_type": "code",
   "execution_count": 9,
   "id": "e3d24329",
   "metadata": {},
   "outputs": [
    {
     "name": "stdout",
     "output_type": "stream",
     "text": [
      "<body>\n",
      "\t\t크롤링을 해봅시다\n",
      "\t</body>\n"
     ]
    }
   ],
   "source": [
    "print(body)"
   ]
  },
  {
   "cell_type": "code",
   "execution_count": null,
   "id": "c0fddaae",
   "metadata": {},
   "outputs": [],
   "source": [
    "html_doc = \"\"\"\n",
    "<!doctype html>\n",
    "<html>\n",
    "\t<head>\n",
    "\t\t<title>기초 웹 크롤링 따라하기</title>\n",
    "\t</head>\n",
    "\t<body>\n",
    "        <div> 첫 번째 부분 </div>\n",
    "        <div> 두 번째 부분 </div>\n",
    "\t</body>\n",
    "</html>\n",
    "\"\"\""
   ]
  },
  {
   "cell_type": "code",
   "execution_count": null,
   "id": "67366999",
   "metadata": {},
   "outputs": [],
   "source": []
  },
  {
   "cell_type": "code",
   "execution_count": null,
   "id": "c0b6a637",
   "metadata": {},
   "outputs": [],
   "source": []
  },
  {
   "cell_type": "code",
   "execution_count": null,
   "id": "af9a8815",
   "metadata": {},
   "outputs": [],
   "source": []
  },
  {
   "cell_type": "code",
   "execution_count": null,
   "id": "537e29ba",
   "metadata": {},
   "outputs": [],
   "source": []
  },
  {
   "cell_type": "code",
   "execution_count": null,
   "id": "e8ffe88a",
   "metadata": {},
   "outputs": [],
   "source": []
  },
  {
   "cell_type": "code",
   "execution_count": null,
   "id": "81678d7c",
   "metadata": {},
   "outputs": [],
   "source": []
  },
  {
   "cell_type": "code",
   "execution_count": null,
   "id": "a3d538e4",
   "metadata": {},
   "outputs": [],
   "source": []
  },
  {
   "cell_type": "code",
   "execution_count": null,
   "id": "9247a8fa",
   "metadata": {},
   "outputs": [],
   "source": []
  },
  {
   "cell_type": "code",
   "execution_count": null,
   "id": "f1887ceb",
   "metadata": {},
   "outputs": [],
   "source": []
  },
  {
   "cell_type": "code",
   "execution_count": null,
   "id": "8c9fbc68",
   "metadata": {},
   "outputs": [],
   "source": []
  },
  {
   "cell_type": "code",
   "execution_count": null,
   "id": "2ff7dead",
   "metadata": {},
   "outputs": [],
   "source": []
  },
  {
   "cell_type": "code",
   "execution_count": null,
   "id": "7929a9a8",
   "metadata": {},
   "outputs": [],
   "source": []
  },
  {
   "cell_type": "code",
   "execution_count": null,
   "id": "b842bda1",
   "metadata": {},
   "outputs": [],
   "source": []
  }
 ],
 "metadata": {
  "kernelspec": {
   "display_name": "Python 3 (ipykernel)",
   "language": "python",
   "name": "python3"
  },
  "language_info": {
   "codemirror_mode": {
    "name": "ipython",
    "version": 3
   },
   "file_extension": ".py",
   "mimetype": "text/x-python",
   "name": "python",
   "nbconvert_exporter": "python",
   "pygments_lexer": "ipython3",
   "version": "3.9.12"
  }
 },
 "nbformat": 4,
 "nbformat_minor": 5
}
