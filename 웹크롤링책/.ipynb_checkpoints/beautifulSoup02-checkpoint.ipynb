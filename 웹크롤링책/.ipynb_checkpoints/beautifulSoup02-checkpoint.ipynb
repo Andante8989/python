{
 "cells": [
  {
   "cell_type": "code",
   "execution_count": null,
   "id": "d785b9d7",
   "metadata": {},
   "outputs": [],
   "source": [
    "html_doc = \"\"\"\n",
    "<!doctype html>\n",
    "<html>\n",
    "    <head>\n",
    "        <title> 기초 웹 크롤링 </title>\n",
    "    </head>\n",
    "    <body>\n",
    "        <table border=\"1\">\n",
    "            <caption> 과일 가격 </caption>\n",
    "            <tr>\n",
    "                <th> 상품 </th>\n",
    "                <th> 가격 </th>\n",
    "            </tr>\n",
    "            <tr>\n",
    "                <td> 오렌지 </td>\n",
    "                <td> 100 </td>\n",
    "            </tr>\n",
    "            <tr>\n",
    "                <td> 사과 </td>\n",
    "                <td> 150 </td>\n",
    "            </tr>\n",
    "        </table>\n",
    "        \n",
    "        <table border=\"2\">\n",
    "            <caption> 의류 가격 </caption>\n",
    "            <tr>\n",
    "                <th> 상품 </th>\n",
    "                <th> 가격 </th>    \n",
    "            </tr>\n",
    "            <tr>\n",
    "                <td> 셔츠 </td>\n",
    "                <td> 30000 </td>\n",
    "            </tr>\n",
    "            <tr>\n",
    "                <td> 바지 </td>\n",
    "                <td> 50000 </td>\n",
    "            </tr>\n",
    "        </table>\n",
    "    </body>\n",
    "</html>\n",
    "            \n",
    "\"\"\""
   ]
  },
  {
   "cell_type": "code",
   "execution_count": null,
   "id": "46d4a782",
   "metadata": {},
   "outputs": [],
   "source": []
  },
  {
   "cell_type": "code",
   "execution_count": null,
   "id": "389fbc75",
   "metadata": {},
   "outputs": [],
   "source": []
  },
  {
   "cell_type": "code",
   "execution_count": null,
   "id": "70a15f2a",
   "metadata": {},
   "outputs": [],
   "source": []
  },
  {
   "cell_type": "code",
   "execution_count": null,
   "id": "b309a4f8",
   "metadata": {},
   "outputs": [],
   "source": []
  },
  {
   "cell_type": "code",
   "execution_count": null,
   "id": "65864eb7",
   "metadata": {},
   "outputs": [],
   "source": []
  },
  {
   "cell_type": "code",
   "execution_count": null,
   "id": "b31090ae",
   "metadata": {},
   "outputs": [],
   "source": []
  },
  {
   "cell_type": "code",
   "execution_count": null,
   "id": "36b7b834",
   "metadata": {},
   "outputs": [],
   "source": []
  },
  {
   "cell_type": "code",
   "execution_count": null,
   "id": "c5c913c9",
   "metadata": {},
   "outputs": [],
   "source": []
  },
  {
   "cell_type": "code",
   "execution_count": null,
   "id": "37574f8c",
   "metadata": {},
   "outputs": [],
   "source": []
  },
  {
   "cell_type": "code",
   "execution_count": null,
   "id": "633a18aa",
   "metadata": {},
   "outputs": [],
   "source": []
  },
  {
   "cell_type": "code",
   "execution_count": null,
   "id": "f2ce5313",
   "metadata": {},
   "outputs": [],
   "source": []
  },
  {
   "cell_type": "code",
   "execution_count": null,
   "id": "9d528de5",
   "metadata": {},
   "outputs": [],
   "source": []
  },
  {
   "cell_type": "code",
   "execution_count": null,
   "id": "9de7e2ae",
   "metadata": {},
   "outputs": [],
   "source": []
  }
 ],
 "metadata": {
  "kernelspec": {
   "display_name": "Python 3 (ipykernel)",
   "language": "python",
   "name": "python3"
  },
  "language_info": {
   "codemirror_mode": {
    "name": "ipython",
    "version": 3
   },
   "file_extension": ".py",
   "mimetype": "text/x-python",
   "name": "python",
   "nbconvert_exporter": "python",
   "pygments_lexer": "ipython3",
   "version": "3.9.12"
  }
 },
 "nbformat": 4,
 "nbformat_minor": 5
}
